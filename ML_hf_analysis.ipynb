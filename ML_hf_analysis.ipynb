{
 "cells": [
  {
   "cell_type": "markdown",
   "metadata": {},
   "source": [
    "## Rukovanje podatcima\n"
   ]
  },
  {
   "cell_type": "code",
   "execution_count": 129,
   "metadata": {},
   "outputs": [],
   "source": [
    "# Imports\n",
    "import pandas as pd\n",
    "import numpy as np\n",
    "import matplotlib.pyplot as plt\n",
    "import seaborn as sns\n",
    "import missingno as mn\n"
   ]
  },
  {
   "cell_type": "markdown",
   "metadata": {},
   "source": [
    "### Učitavanje podataka"
   ]
  },
  {
   "cell_type": "code",
   "execution_count": 130,
   "metadata": {},
   "outputs": [],
   "source": [
    "# Učitavanje podataka\n",
    "df = pd.read_csv(\"data/heart_disease_uci.csv\")"
   ]
  },
  {
   "cell_type": "markdown",
   "metadata": {},
   "source": [
    "#### Početni pregled podataka"
   ]
  },
  {
   "cell_type": "code",
   "execution_count": 131,
   "metadata": {},
   "outputs": [
    {
     "data": {
      "text/plain": [
       "(920, 16)"
      ]
     },
     "execution_count": 131,
     "metadata": {},
     "output_type": "execute_result"
    }
   ],
   "source": [
    "# Prikaz dimenzija dataframea\n",
    "df.shape"
   ]
  },
  {
   "cell_type": "code",
   "execution_count": 132,
   "metadata": {},
   "outputs": [
    {
     "data": {
      "text/html": [
       "<div>\n",
       "<style scoped>\n",
       "    .dataframe tbody tr th:only-of-type {\n",
       "        vertical-align: middle;\n",
       "    }\n",
       "\n",
       "    .dataframe tbody tr th {\n",
       "        vertical-align: top;\n",
       "    }\n",
       "\n",
       "    .dataframe thead th {\n",
       "        text-align: right;\n",
       "    }\n",
       "</style>\n",
       "<table border=\"1\" class=\"dataframe\">\n",
       "  <thead>\n",
       "    <tr style=\"text-align: right;\">\n",
       "      <th></th>\n",
       "      <th>id</th>\n",
       "      <th>age</th>\n",
       "      <th>sex</th>\n",
       "      <th>dataset</th>\n",
       "      <th>cp</th>\n",
       "      <th>trestbps</th>\n",
       "      <th>chol</th>\n",
       "      <th>fbs</th>\n",
       "      <th>restecg</th>\n",
       "      <th>thalch</th>\n",
       "      <th>exang</th>\n",
       "      <th>oldpeak</th>\n",
       "      <th>slope</th>\n",
       "      <th>ca</th>\n",
       "      <th>thal</th>\n",
       "      <th>num</th>\n",
       "    </tr>\n",
       "  </thead>\n",
       "  <tbody>\n",
       "    <tr>\n",
       "      <th>0</th>\n",
       "      <td>1</td>\n",
       "      <td>63</td>\n",
       "      <td>Male</td>\n",
       "      <td>Cleveland</td>\n",
       "      <td>typical angina</td>\n",
       "      <td>145.0</td>\n",
       "      <td>233.0</td>\n",
       "      <td>True</td>\n",
       "      <td>lv hypertrophy</td>\n",
       "      <td>150.0</td>\n",
       "      <td>False</td>\n",
       "      <td>2.3</td>\n",
       "      <td>downsloping</td>\n",
       "      <td>0.0</td>\n",
       "      <td>fixed defect</td>\n",
       "      <td>0</td>\n",
       "    </tr>\n",
       "    <tr>\n",
       "      <th>1</th>\n",
       "      <td>2</td>\n",
       "      <td>67</td>\n",
       "      <td>Male</td>\n",
       "      <td>Cleveland</td>\n",
       "      <td>asymptomatic</td>\n",
       "      <td>160.0</td>\n",
       "      <td>286.0</td>\n",
       "      <td>False</td>\n",
       "      <td>lv hypertrophy</td>\n",
       "      <td>108.0</td>\n",
       "      <td>True</td>\n",
       "      <td>1.5</td>\n",
       "      <td>flat</td>\n",
       "      <td>3.0</td>\n",
       "      <td>normal</td>\n",
       "      <td>2</td>\n",
       "    </tr>\n",
       "    <tr>\n",
       "      <th>2</th>\n",
       "      <td>3</td>\n",
       "      <td>67</td>\n",
       "      <td>Male</td>\n",
       "      <td>Cleveland</td>\n",
       "      <td>asymptomatic</td>\n",
       "      <td>120.0</td>\n",
       "      <td>229.0</td>\n",
       "      <td>False</td>\n",
       "      <td>lv hypertrophy</td>\n",
       "      <td>129.0</td>\n",
       "      <td>True</td>\n",
       "      <td>2.6</td>\n",
       "      <td>flat</td>\n",
       "      <td>2.0</td>\n",
       "      <td>reversable defect</td>\n",
       "      <td>1</td>\n",
       "    </tr>\n",
       "    <tr>\n",
       "      <th>3</th>\n",
       "      <td>4</td>\n",
       "      <td>37</td>\n",
       "      <td>Male</td>\n",
       "      <td>Cleveland</td>\n",
       "      <td>non-anginal</td>\n",
       "      <td>130.0</td>\n",
       "      <td>250.0</td>\n",
       "      <td>False</td>\n",
       "      <td>normal</td>\n",
       "      <td>187.0</td>\n",
       "      <td>False</td>\n",
       "      <td>3.5</td>\n",
       "      <td>downsloping</td>\n",
       "      <td>0.0</td>\n",
       "      <td>normal</td>\n",
       "      <td>0</td>\n",
       "    </tr>\n",
       "    <tr>\n",
       "      <th>4</th>\n",
       "      <td>5</td>\n",
       "      <td>41</td>\n",
       "      <td>Female</td>\n",
       "      <td>Cleveland</td>\n",
       "      <td>atypical angina</td>\n",
       "      <td>130.0</td>\n",
       "      <td>204.0</td>\n",
       "      <td>False</td>\n",
       "      <td>lv hypertrophy</td>\n",
       "      <td>172.0</td>\n",
       "      <td>False</td>\n",
       "      <td>1.4</td>\n",
       "      <td>upsloping</td>\n",
       "      <td>0.0</td>\n",
       "      <td>normal</td>\n",
       "      <td>0</td>\n",
       "    </tr>\n",
       "  </tbody>\n",
       "</table>\n",
       "</div>"
      ],
      "text/plain": [
       "   id  age     sex    dataset               cp  trestbps   chol    fbs  \\\n",
       "0   1   63    Male  Cleveland   typical angina     145.0  233.0   True   \n",
       "1   2   67    Male  Cleveland     asymptomatic     160.0  286.0  False   \n",
       "2   3   67    Male  Cleveland     asymptomatic     120.0  229.0  False   \n",
       "3   4   37    Male  Cleveland      non-anginal     130.0  250.0  False   \n",
       "4   5   41  Female  Cleveland  atypical angina     130.0  204.0  False   \n",
       "\n",
       "          restecg  thalch  exang  oldpeak        slope   ca  \\\n",
       "0  lv hypertrophy   150.0  False      2.3  downsloping  0.0   \n",
       "1  lv hypertrophy   108.0   True      1.5         flat  3.0   \n",
       "2  lv hypertrophy   129.0   True      2.6         flat  2.0   \n",
       "3          normal   187.0  False      3.5  downsloping  0.0   \n",
       "4  lv hypertrophy   172.0  False      1.4    upsloping  0.0   \n",
       "\n",
       "                thal  num  \n",
       "0       fixed defect    0  \n",
       "1             normal    2  \n",
       "2  reversable defect    1  \n",
       "3             normal    0  \n",
       "4             normal    0  "
      ]
     },
     "execution_count": 132,
     "metadata": {},
     "output_type": "execute_result"
    }
   ],
   "source": [
    "df.head()"
   ]
  },
  {
   "cell_type": "code",
   "execution_count": 133,
   "metadata": {},
   "outputs": [],
   "source": [
    "# Prikaz svih podataka \n",
    "#with pd.option_context(\"display.max_rows\", None, 'display.max_columns', None):\n",
    "#    display(df)"
   ]
  },
  {
   "cell_type": "code",
   "execution_count": 134,
   "metadata": {},
   "outputs": [
    {
     "data": {
      "text/plain": [
       "array(['id', 'age', 'sex', 'dataset', 'cp', 'trestbps', 'chol', 'fbs',\n",
       "       'restecg', 'thalch', 'exang', 'oldpeak', 'slope', 'ca', 'thal',\n",
       "       'num'], dtype=object)"
      ]
     },
     "execution_count": 134,
     "metadata": {},
     "output_type": "execute_result"
    }
   ],
   "source": [
    "df.columns.values"
   ]
  },
  {
   "cell_type": "markdown",
   "metadata": {},
   "source": [
    "Pojašnjenja značajki:\n",
    "- id - ID osobe, tj. primjera \n",
    "- age - starost osobe\n",
    "- sex - spol osobe\n",
    "- cp - razina boli u prsima (0, 1, 2, 3)\n",
    "- trestbps - tlak osobe kad je primljena u bolnicu\n",
    "- chol - razina kolesterola osobe kada je primljena u bolnicu\n",
    "- fbs - razina šećera u krvi (0, 1)\n",
    "- restecg - rezultat EKG-a (0, 1, 2)\n",
    "- thalch - maksimalna vrijednost otkucaja srca zabilježena tijekom primitka u bolnicu\n",
    "- exang - izaziva li vježba anginu (0, 1)\n",
    "- oldpeak - stanje depresije\n",
    "- slope - stanje pacijenta tijekom najveće fizičke aktivnosti/napora\n",
    "- ca - prikaz rezultata fluoroskopije, koliko su žile obojene (0, 1, 2, 3)\n",
    "- thal - rezultat testa na talij (0, 1, 2, 3)\n",
    "- num - značajka oznake/klase\n"
   ]
  },
  {
   "cell_type": "code",
   "execution_count": 135,
   "metadata": {},
   "outputs": [
    {
     "name": "stdout",
     "output_type": "stream",
     "text": [
      "<class 'pandas.core.frame.DataFrame'>\n",
      "RangeIndex: 920 entries, 0 to 919\n",
      "Data columns (total 16 columns):\n",
      " #   Column    Non-Null Count  Dtype  \n",
      "---  ------    --------------  -----  \n",
      " 0   id        920 non-null    int64  \n",
      " 1   age       920 non-null    int64  \n",
      " 2   sex       920 non-null    object \n",
      " 3   dataset   920 non-null    object \n",
      " 4   cp        920 non-null    object \n",
      " 5   trestbps  861 non-null    float64\n",
      " 6   chol      890 non-null    float64\n",
      " 7   fbs       830 non-null    object \n",
      " 8   restecg   918 non-null    object \n",
      " 9   thalch    865 non-null    float64\n",
      " 10  exang     865 non-null    object \n",
      " 11  oldpeak   858 non-null    float64\n",
      " 12  slope     611 non-null    object \n",
      " 13  ca        309 non-null    float64\n",
      " 14  thal      434 non-null    object \n",
      " 15  num       920 non-null    int64  \n",
      "dtypes: float64(5), int64(3), object(8)\n",
      "memory usage: 115.1+ KB\n"
     ]
    }
   ],
   "source": [
    "df.info()"
   ]
  },
  {
   "cell_type": "code",
   "execution_count": 136,
   "metadata": {},
   "outputs": [
    {
     "data": {
      "text/html": [
       "<div>\n",
       "<style scoped>\n",
       "    .dataframe tbody tr th:only-of-type {\n",
       "        vertical-align: middle;\n",
       "    }\n",
       "\n",
       "    .dataframe tbody tr th {\n",
       "        vertical-align: top;\n",
       "    }\n",
       "\n",
       "    .dataframe thead th {\n",
       "        text-align: right;\n",
       "    }\n",
       "</style>\n",
       "<table border=\"1\" class=\"dataframe\">\n",
       "  <thead>\n",
       "    <tr style=\"text-align: right;\">\n",
       "      <th></th>\n",
       "      <th>id</th>\n",
       "      <th>age</th>\n",
       "      <th>trestbps</th>\n",
       "      <th>chol</th>\n",
       "      <th>thalch</th>\n",
       "      <th>oldpeak</th>\n",
       "      <th>ca</th>\n",
       "      <th>num</th>\n",
       "    </tr>\n",
       "  </thead>\n",
       "  <tbody>\n",
       "    <tr>\n",
       "      <th>count</th>\n",
       "      <td>920.000000</td>\n",
       "      <td>920.000000</td>\n",
       "      <td>861.000000</td>\n",
       "      <td>890.000000</td>\n",
       "      <td>865.000000</td>\n",
       "      <td>858.000000</td>\n",
       "      <td>309.000000</td>\n",
       "      <td>920.000000</td>\n",
       "    </tr>\n",
       "    <tr>\n",
       "      <th>mean</th>\n",
       "      <td>460.500000</td>\n",
       "      <td>53.510870</td>\n",
       "      <td>132.132404</td>\n",
       "      <td>199.130337</td>\n",
       "      <td>137.545665</td>\n",
       "      <td>0.878788</td>\n",
       "      <td>0.676375</td>\n",
       "      <td>0.995652</td>\n",
       "    </tr>\n",
       "    <tr>\n",
       "      <th>std</th>\n",
       "      <td>265.725422</td>\n",
       "      <td>9.424685</td>\n",
       "      <td>19.066070</td>\n",
       "      <td>110.780810</td>\n",
       "      <td>25.926276</td>\n",
       "      <td>1.091226</td>\n",
       "      <td>0.935653</td>\n",
       "      <td>1.142693</td>\n",
       "    </tr>\n",
       "    <tr>\n",
       "      <th>min</th>\n",
       "      <td>1.000000</td>\n",
       "      <td>28.000000</td>\n",
       "      <td>0.000000</td>\n",
       "      <td>0.000000</td>\n",
       "      <td>60.000000</td>\n",
       "      <td>-2.600000</td>\n",
       "      <td>0.000000</td>\n",
       "      <td>0.000000</td>\n",
       "    </tr>\n",
       "    <tr>\n",
       "      <th>25%</th>\n",
       "      <td>230.750000</td>\n",
       "      <td>47.000000</td>\n",
       "      <td>120.000000</td>\n",
       "      <td>175.000000</td>\n",
       "      <td>120.000000</td>\n",
       "      <td>0.000000</td>\n",
       "      <td>0.000000</td>\n",
       "      <td>0.000000</td>\n",
       "    </tr>\n",
       "    <tr>\n",
       "      <th>50%</th>\n",
       "      <td>460.500000</td>\n",
       "      <td>54.000000</td>\n",
       "      <td>130.000000</td>\n",
       "      <td>223.000000</td>\n",
       "      <td>140.000000</td>\n",
       "      <td>0.500000</td>\n",
       "      <td>0.000000</td>\n",
       "      <td>1.000000</td>\n",
       "    </tr>\n",
       "    <tr>\n",
       "      <th>75%</th>\n",
       "      <td>690.250000</td>\n",
       "      <td>60.000000</td>\n",
       "      <td>140.000000</td>\n",
       "      <td>268.000000</td>\n",
       "      <td>157.000000</td>\n",
       "      <td>1.500000</td>\n",
       "      <td>1.000000</td>\n",
       "      <td>2.000000</td>\n",
       "    </tr>\n",
       "    <tr>\n",
       "      <th>max</th>\n",
       "      <td>920.000000</td>\n",
       "      <td>77.000000</td>\n",
       "      <td>200.000000</td>\n",
       "      <td>603.000000</td>\n",
       "      <td>202.000000</td>\n",
       "      <td>6.200000</td>\n",
       "      <td>3.000000</td>\n",
       "      <td>4.000000</td>\n",
       "    </tr>\n",
       "  </tbody>\n",
       "</table>\n",
       "</div>"
      ],
      "text/plain": [
       "               id         age    trestbps        chol      thalch     oldpeak  \\\n",
       "count  920.000000  920.000000  861.000000  890.000000  865.000000  858.000000   \n",
       "mean   460.500000   53.510870  132.132404  199.130337  137.545665    0.878788   \n",
       "std    265.725422    9.424685   19.066070  110.780810   25.926276    1.091226   \n",
       "min      1.000000   28.000000    0.000000    0.000000   60.000000   -2.600000   \n",
       "25%    230.750000   47.000000  120.000000  175.000000  120.000000    0.000000   \n",
       "50%    460.500000   54.000000  130.000000  223.000000  140.000000    0.500000   \n",
       "75%    690.250000   60.000000  140.000000  268.000000  157.000000    1.500000   \n",
       "max    920.000000   77.000000  200.000000  603.000000  202.000000    6.200000   \n",
       "\n",
       "               ca         num  \n",
       "count  309.000000  920.000000  \n",
       "mean     0.676375    0.995652  \n",
       "std      0.935653    1.142693  \n",
       "min      0.000000    0.000000  \n",
       "25%      0.000000    0.000000  \n",
       "50%      0.000000    1.000000  \n",
       "75%      1.000000    2.000000  \n",
       "max      3.000000    4.000000  "
      ]
     },
     "execution_count": 136,
     "metadata": {},
     "output_type": "execute_result"
    }
   ],
   "source": [
    "# Opis numeričkih podataka, broj podataka, standardna devijacija, aritmetička vrijednost, minimalne i maksimalne vrijednosti\n",
    "df.describe()"
   ]
  },
  {
   "cell_type": "code",
   "execution_count": 137,
   "metadata": {},
   "outputs": [
    {
     "data": {
      "text/html": [
       "<div>\n",
       "<style scoped>\n",
       "    .dataframe tbody tr th:only-of-type {\n",
       "        vertical-align: middle;\n",
       "    }\n",
       "\n",
       "    .dataframe tbody tr th {\n",
       "        vertical-align: top;\n",
       "    }\n",
       "\n",
       "    .dataframe thead th {\n",
       "        text-align: right;\n",
       "    }\n",
       "</style>\n",
       "<table border=\"1\" class=\"dataframe\">\n",
       "  <thead>\n",
       "    <tr style=\"text-align: right;\">\n",
       "      <th></th>\n",
       "      <th>id</th>\n",
       "      <th>age</th>\n",
       "      <th>sex</th>\n",
       "      <th>dataset</th>\n",
       "      <th>cp</th>\n",
       "      <th>trestbps</th>\n",
       "      <th>chol</th>\n",
       "      <th>fbs</th>\n",
       "      <th>restecg</th>\n",
       "      <th>thalch</th>\n",
       "      <th>exang</th>\n",
       "      <th>oldpeak</th>\n",
       "      <th>slope</th>\n",
       "      <th>ca</th>\n",
       "      <th>thal</th>\n",
       "      <th>num</th>\n",
       "    </tr>\n",
       "  </thead>\n",
       "  <tbody>\n",
       "    <tr>\n",
       "      <th>count</th>\n",
       "      <td>920.000000</td>\n",
       "      <td>920.000000</td>\n",
       "      <td>920</td>\n",
       "      <td>920</td>\n",
       "      <td>920</td>\n",
       "      <td>861.000000</td>\n",
       "      <td>890.000000</td>\n",
       "      <td>830</td>\n",
       "      <td>918</td>\n",
       "      <td>865.000000</td>\n",
       "      <td>865</td>\n",
       "      <td>858.000000</td>\n",
       "      <td>611</td>\n",
       "      <td>309.000000</td>\n",
       "      <td>434</td>\n",
       "      <td>920.000000</td>\n",
       "    </tr>\n",
       "    <tr>\n",
       "      <th>unique</th>\n",
       "      <td>NaN</td>\n",
       "      <td>NaN</td>\n",
       "      <td>2</td>\n",
       "      <td>4</td>\n",
       "      <td>4</td>\n",
       "      <td>NaN</td>\n",
       "      <td>NaN</td>\n",
       "      <td>2</td>\n",
       "      <td>3</td>\n",
       "      <td>NaN</td>\n",
       "      <td>2</td>\n",
       "      <td>NaN</td>\n",
       "      <td>3</td>\n",
       "      <td>NaN</td>\n",
       "      <td>3</td>\n",
       "      <td>NaN</td>\n",
       "    </tr>\n",
       "    <tr>\n",
       "      <th>top</th>\n",
       "      <td>NaN</td>\n",
       "      <td>NaN</td>\n",
       "      <td>Male</td>\n",
       "      <td>Cleveland</td>\n",
       "      <td>asymptomatic</td>\n",
       "      <td>NaN</td>\n",
       "      <td>NaN</td>\n",
       "      <td>False</td>\n",
       "      <td>normal</td>\n",
       "      <td>NaN</td>\n",
       "      <td>False</td>\n",
       "      <td>NaN</td>\n",
       "      <td>flat</td>\n",
       "      <td>NaN</td>\n",
       "      <td>normal</td>\n",
       "      <td>NaN</td>\n",
       "    </tr>\n",
       "    <tr>\n",
       "      <th>freq</th>\n",
       "      <td>NaN</td>\n",
       "      <td>NaN</td>\n",
       "      <td>726</td>\n",
       "      <td>304</td>\n",
       "      <td>496</td>\n",
       "      <td>NaN</td>\n",
       "      <td>NaN</td>\n",
       "      <td>692</td>\n",
       "      <td>551</td>\n",
       "      <td>NaN</td>\n",
       "      <td>528</td>\n",
       "      <td>NaN</td>\n",
       "      <td>345</td>\n",
       "      <td>NaN</td>\n",
       "      <td>196</td>\n",
       "      <td>NaN</td>\n",
       "    </tr>\n",
       "    <tr>\n",
       "      <th>mean</th>\n",
       "      <td>460.500000</td>\n",
       "      <td>53.510870</td>\n",
       "      <td>NaN</td>\n",
       "      <td>NaN</td>\n",
       "      <td>NaN</td>\n",
       "      <td>132.132404</td>\n",
       "      <td>199.130337</td>\n",
       "      <td>NaN</td>\n",
       "      <td>NaN</td>\n",
       "      <td>137.545665</td>\n",
       "      <td>NaN</td>\n",
       "      <td>0.878788</td>\n",
       "      <td>NaN</td>\n",
       "      <td>0.676375</td>\n",
       "      <td>NaN</td>\n",
       "      <td>0.995652</td>\n",
       "    </tr>\n",
       "    <tr>\n",
       "      <th>std</th>\n",
       "      <td>265.725422</td>\n",
       "      <td>9.424685</td>\n",
       "      <td>NaN</td>\n",
       "      <td>NaN</td>\n",
       "      <td>NaN</td>\n",
       "      <td>19.066070</td>\n",
       "      <td>110.780810</td>\n",
       "      <td>NaN</td>\n",
       "      <td>NaN</td>\n",
       "      <td>25.926276</td>\n",
       "      <td>NaN</td>\n",
       "      <td>1.091226</td>\n",
       "      <td>NaN</td>\n",
       "      <td>0.935653</td>\n",
       "      <td>NaN</td>\n",
       "      <td>1.142693</td>\n",
       "    </tr>\n",
       "    <tr>\n",
       "      <th>min</th>\n",
       "      <td>1.000000</td>\n",
       "      <td>28.000000</td>\n",
       "      <td>NaN</td>\n",
       "      <td>NaN</td>\n",
       "      <td>NaN</td>\n",
       "      <td>0.000000</td>\n",
       "      <td>0.000000</td>\n",
       "      <td>NaN</td>\n",
       "      <td>NaN</td>\n",
       "      <td>60.000000</td>\n",
       "      <td>NaN</td>\n",
       "      <td>-2.600000</td>\n",
       "      <td>NaN</td>\n",
       "      <td>0.000000</td>\n",
       "      <td>NaN</td>\n",
       "      <td>0.000000</td>\n",
       "    </tr>\n",
       "    <tr>\n",
       "      <th>25%</th>\n",
       "      <td>230.750000</td>\n",
       "      <td>47.000000</td>\n",
       "      <td>NaN</td>\n",
       "      <td>NaN</td>\n",
       "      <td>NaN</td>\n",
       "      <td>120.000000</td>\n",
       "      <td>175.000000</td>\n",
       "      <td>NaN</td>\n",
       "      <td>NaN</td>\n",
       "      <td>120.000000</td>\n",
       "      <td>NaN</td>\n",
       "      <td>0.000000</td>\n",
       "      <td>NaN</td>\n",
       "      <td>0.000000</td>\n",
       "      <td>NaN</td>\n",
       "      <td>0.000000</td>\n",
       "    </tr>\n",
       "    <tr>\n",
       "      <th>50%</th>\n",
       "      <td>460.500000</td>\n",
       "      <td>54.000000</td>\n",
       "      <td>NaN</td>\n",
       "      <td>NaN</td>\n",
       "      <td>NaN</td>\n",
       "      <td>130.000000</td>\n",
       "      <td>223.000000</td>\n",
       "      <td>NaN</td>\n",
       "      <td>NaN</td>\n",
       "      <td>140.000000</td>\n",
       "      <td>NaN</td>\n",
       "      <td>0.500000</td>\n",
       "      <td>NaN</td>\n",
       "      <td>0.000000</td>\n",
       "      <td>NaN</td>\n",
       "      <td>1.000000</td>\n",
       "    </tr>\n",
       "    <tr>\n",
       "      <th>75%</th>\n",
       "      <td>690.250000</td>\n",
       "      <td>60.000000</td>\n",
       "      <td>NaN</td>\n",
       "      <td>NaN</td>\n",
       "      <td>NaN</td>\n",
       "      <td>140.000000</td>\n",
       "      <td>268.000000</td>\n",
       "      <td>NaN</td>\n",
       "      <td>NaN</td>\n",
       "      <td>157.000000</td>\n",
       "      <td>NaN</td>\n",
       "      <td>1.500000</td>\n",
       "      <td>NaN</td>\n",
       "      <td>1.000000</td>\n",
       "      <td>NaN</td>\n",
       "      <td>2.000000</td>\n",
       "    </tr>\n",
       "    <tr>\n",
       "      <th>max</th>\n",
       "      <td>920.000000</td>\n",
       "      <td>77.000000</td>\n",
       "      <td>NaN</td>\n",
       "      <td>NaN</td>\n",
       "      <td>NaN</td>\n",
       "      <td>200.000000</td>\n",
       "      <td>603.000000</td>\n",
       "      <td>NaN</td>\n",
       "      <td>NaN</td>\n",
       "      <td>202.000000</td>\n",
       "      <td>NaN</td>\n",
       "      <td>6.200000</td>\n",
       "      <td>NaN</td>\n",
       "      <td>3.000000</td>\n",
       "      <td>NaN</td>\n",
       "      <td>4.000000</td>\n",
       "    </tr>\n",
       "  </tbody>\n",
       "</table>\n",
       "</div>"
      ],
      "text/plain": [
       "                id         age   sex    dataset            cp    trestbps  \\\n",
       "count   920.000000  920.000000   920        920           920  861.000000   \n",
       "unique         NaN         NaN     2          4             4         NaN   \n",
       "top            NaN         NaN  Male  Cleveland  asymptomatic         NaN   \n",
       "freq           NaN         NaN   726        304           496         NaN   \n",
       "mean    460.500000   53.510870   NaN        NaN           NaN  132.132404   \n",
       "std     265.725422    9.424685   NaN        NaN           NaN   19.066070   \n",
       "min       1.000000   28.000000   NaN        NaN           NaN    0.000000   \n",
       "25%     230.750000   47.000000   NaN        NaN           NaN  120.000000   \n",
       "50%     460.500000   54.000000   NaN        NaN           NaN  130.000000   \n",
       "75%     690.250000   60.000000   NaN        NaN           NaN  140.000000   \n",
       "max     920.000000   77.000000   NaN        NaN           NaN  200.000000   \n",
       "\n",
       "              chol    fbs restecg      thalch  exang     oldpeak slope  \\\n",
       "count   890.000000    830     918  865.000000    865  858.000000   611   \n",
       "unique         NaN      2       3         NaN      2         NaN     3   \n",
       "top            NaN  False  normal         NaN  False         NaN  flat   \n",
       "freq           NaN    692     551         NaN    528         NaN   345   \n",
       "mean    199.130337    NaN     NaN  137.545665    NaN    0.878788   NaN   \n",
       "std     110.780810    NaN     NaN   25.926276    NaN    1.091226   NaN   \n",
       "min       0.000000    NaN     NaN   60.000000    NaN   -2.600000   NaN   \n",
       "25%     175.000000    NaN     NaN  120.000000    NaN    0.000000   NaN   \n",
       "50%     223.000000    NaN     NaN  140.000000    NaN    0.500000   NaN   \n",
       "75%     268.000000    NaN     NaN  157.000000    NaN    1.500000   NaN   \n",
       "max     603.000000    NaN     NaN  202.000000    NaN    6.200000   NaN   \n",
       "\n",
       "                ca    thal         num  \n",
       "count   309.000000     434  920.000000  \n",
       "unique         NaN       3         NaN  \n",
       "top            NaN  normal         NaN  \n",
       "freq           NaN     196         NaN  \n",
       "mean      0.676375     NaN    0.995652  \n",
       "std       0.935653     NaN    1.142693  \n",
       "min       0.000000     NaN    0.000000  \n",
       "25%       0.000000     NaN    0.000000  \n",
       "50%       0.000000     NaN    1.000000  \n",
       "75%       1.000000     NaN    2.000000  \n",
       "max       3.000000     NaN    4.000000  "
      ]
     },
     "execution_count": 137,
     "metadata": {},
     "output_type": "execute_result"
    }
   ],
   "source": [
    "# Opis svih podataka, broj podataka, standardna devijacija, aritmetička vrijednost, minimalne i maksimalne vrijednosti\n",
    "df.describe(include = 'all')"
   ]
  },
  {
   "cell_type": "markdown",
   "metadata": {},
   "source": [
    "#### Monotoni atributi"
   ]
  },
  {
   "cell_type": "code",
   "execution_count": 138,
   "metadata": {},
   "outputs": [
    {
     "data": {
      "text/plain": [
       "id          920\n",
       "age          50\n",
       "sex           2\n",
       "dataset       4\n",
       "cp            4\n",
       "trestbps     61\n",
       "chol        217\n",
       "fbs           2\n",
       "restecg       3\n",
       "thalch      119\n",
       "exang         2\n",
       "oldpeak      53\n",
       "slope         3\n",
       "ca            4\n",
       "thal          3\n",
       "num           5\n",
       "dtype: int64"
      ]
     },
     "execution_count": 138,
     "metadata": {},
     "output_type": "execute_result"
    }
   ],
   "source": [
    "# Provjera postoje li monotoni atributi, čija vrijednost jednoliko raste\n",
    "df.nunique()"
   ]
  },
  {
   "cell_type": "markdown",
   "metadata": {},
   "source": [
    "Iz ovog prikaza, može se zaključiti da je id monotoni atribut, zbog čega ga možemo izbaciti iz skupa podataka. "
   ]
  },
  {
   "cell_type": "code",
   "execution_count": 139,
   "metadata": {},
   "outputs": [],
   "source": [
    "df.drop('id', axis = 1, inplace=True)"
   ]
  },
  {
   "cell_type": "markdown",
   "metadata": {},
   "source": [
    "Također, dataset značajka nam nije relevantan za predikciju zatajenja srca. "
   ]
  },
  {
   "cell_type": "code",
   "execution_count": 140,
   "metadata": {},
   "outputs": [],
   "source": [
    "df.drop('dataset', axis = 1, inplace=True)"
   ]
  },
  {
   "cell_type": "markdown",
   "metadata": {},
   "source": [
    "#### Nedostajajući podatci "
   ]
  },
  {
   "cell_type": "code",
   "execution_count": 141,
   "metadata": {},
   "outputs": [
    {
     "data": {
      "text/plain": [
       "age           0\n",
       "sex           0\n",
       "cp            0\n",
       "trestbps     59\n",
       "chol         30\n",
       "fbs          90\n",
       "restecg       2\n",
       "thalch       55\n",
       "exang        55\n",
       "oldpeak      62\n",
       "slope       309\n",
       "ca          611\n",
       "thal        486\n",
       "num           0\n",
       "dtype: int64"
      ]
     },
     "execution_count": 141,
     "metadata": {},
     "output_type": "execute_result"
    }
   ],
   "source": [
    "# Provjera koliko je nedostajajućih podataka\n",
    "df.isna().sum()"
   ]
  },
  {
   "cell_type": "code",
   "execution_count": 142,
   "metadata": {},
   "outputs": [
    {
     "data": {
      "text/plain": [
       "age          0.00\n",
       "sex          0.00\n",
       "cp           0.00\n",
       "trestbps     6.41\n",
       "chol         3.26\n",
       "fbs          9.78\n",
       "restecg      0.22\n",
       "thalch       5.98\n",
       "exang        5.98\n",
       "oldpeak      6.74\n",
       "slope       33.59\n",
       "ca          66.41\n",
       "thal        52.83\n",
       "num          0.00\n",
       "dtype: float64"
      ]
     },
     "execution_count": 142,
     "metadata": {},
     "output_type": "execute_result"
    }
   ],
   "source": [
    "# Postotak nedostajajućih vrijednosti\n",
    "round((df.isna().sum() / len(df))*100,2)"
   ]
  },
  {
   "cell_type": "code",
   "execution_count": 143,
   "metadata": {},
   "outputs": [
    {
     "data": {
      "image/png": "[encoded data removed]",
      "text/plain": [
       "<Figure size 500x400 with 2 Axes>"
      ]
     },
     "metadata": {},
     "output_type": "display_data"
    }
   ],
   "source": [
    "mn.matrix(df,figsize=(5,4));"
   ]
  },
  {
   "cell_type": "markdown",
   "metadata": {},
   "source": [
    "U idealnom slučaju rješenje za nedostajujuće podatke bilo bi pronalazak točnih vrijednosti iz drugih izvora, međutim, to ovdje nije opcija. Zato ćemo se poslužiti drugim metodama."
   ]
  },
  {
   "cell_type": "markdown",
   "metadata": {},
   "source": [
    "U slučaju značajke **trestbps**:\n",
    "- značajka ima numeričku vrijednost tako da možemo nedostajajuće vrijednosti zamijeniti srednjom vrijednosti\n",
    "- izbacivanjem tih zapisa gubimo oko 6,5% podataka, također, to nije opcija ako podatci nisu MAR (Missing At Random) ili MCAR (Missing Completely At Random)\n",
    "- izbacivanje značajke nije moguće, krvni tlak važan je faktor u predviđanju zatajenja srca\n",
    "- interpolacija nema baš smisla "
   ]
  },
  {
   "cell_type": "code",
   "execution_count": 144,
   "metadata": {},
   "outputs": [
    {
     "name": "stderr",
     "output_type": "stream",
     "text": [
      "/tmp/ipykernel_9700/1080742283.py:1: UserWarning: \n",
      "\n",
      "`distplot` is a deprecated function and will be removed in seaborn v0.14.0.\n",
      "\n",
      "Please adapt your code to use either `displot` (a figure-level function with\n",
      "similar flexibility) or `histplot` (an axes-level function for histograms).\n",
      "\n",
      "For a guide to updating your code to use the new functions, please see\n",
      "https://gist.github.com/mwaskom/de44147ed2974457ad6372750bbe5751\n",
      "\n",
      "  sns.distplot(df.trestbps)\n",
      "/home/lucija/miniconda3/envs/myenv/lib/python3.10/site-packages/seaborn/_oldcore.py:1498: FutureWarning: is_categorical_dtype is deprecated and will be removed in a future version. Use isinstance(dtype, CategoricalDtype) instead\n",
      "  if pd.api.types.is_categorical_dtype(vector):\n",
      "/home/lucija/miniconda3/envs/myenv/lib/python3.10/site-packages/seaborn/_oldcore.py:1119: FutureWarning: use_inf_as_na option is deprecated and will be removed in a future version. Convert inf values to NaN before operating instead.\n",
      "  with pd.option_context('mode.use_inf_as_na', True):\n"
     ]
    },
    {
     "data": {
      "text/plain": [
       "<Axes: xlabel='trestbps', ylabel='Density'>"
      ]
     },
     "execution_count": 144,
     "metadata": {},
     "output_type": "execute_result"
    },
    {
     "data": {
      "image/png": "[encoded data removed]",
      "text/plain": [
       "<Figure size 640x480 with 1 Axes>"
      ]
     },
     "metadata": {},
     "output_type": "display_data"
    }
   ],
   "source": [
    "sns.distplot(df.trestbps)"
   ]
  },
  {
   "cell_type": "markdown",
   "metadata": {},
   "source": [
    "U slučaju značajke **chol**:\n",
    "- značajka ima numeričku vrijednost tako da možemo nedostajajuće vrijednosti zamijeniti srednjom vrijednosti\n",
    "- izbacivanjem tih zapisa gubimo oko 3,3% podataka, također, to nije opcija ako podatci nisu MAR (Missing At Random) ili MCAR (Missing Completely At Random)\n",
    "- izbacivanje značajke nije moguće, kolesterol je važan faktor u predviđanju zatajenja srca\n",
    "- interpolacija nema smisla"
   ]
  },
  {
   "cell_type": "code",
   "execution_count": 145,
   "metadata": {},
   "outputs": [
    {
     "name": "stderr",
     "output_type": "stream",
     "text": [
      "/tmp/ipykernel_9700/1709164173.py:1: UserWarning: \n",
      "\n",
      "`distplot` is a deprecated function and will be removed in seaborn v0.14.0.\n",
      "\n",
      "Please adapt your code to use either `displot` (a figure-level function with\n",
      "similar flexibility) or `histplot` (an axes-level function for histograms).\n",
      "\n",
      "For a guide to updating your code to use the new functions, please see\n",
      "https://gist.github.com/mwaskom/de44147ed2974457ad6372750bbe5751\n",
      "\n",
      "  sns.distplot(df.chol)\n",
      "/home/lucija/miniconda3/envs/myenv/lib/python3.10/site-packages/seaborn/_oldcore.py:1498: FutureWarning: is_categorical_dtype is deprecated and will be removed in a future version. Use isinstance(dtype, CategoricalDtype) instead\n",
      "  if pd.api.types.is_categorical_dtype(vector):\n",
      "/home/lucija/miniconda3/envs/myenv/lib/python3.10/site-packages/seaborn/_oldcore.py:1119: FutureWarning: use_inf_as_na option is deprecated and will be removed in a future version. Convert inf values to NaN before operating instead.\n",
      "  with pd.option_context('mode.use_inf_as_na', True):\n"
     ]
    },
    {
     "data": {
      "text/plain": [
       "<Axes: xlabel='chol', ylabel='Density'>"
      ]
     },
     "execution_count": 145,
     "metadata": {},
     "output_type": "execute_result"
    },
    {
     "data": {
      "image/png": "[encoded data removed]",
      "text/plain": [
       "<Figure size 640x480 with 1 Axes>"
      ]
     },
     "metadata": {},
     "output_type": "display_data"
    }
   ],
   "source": [
    "sns.distplot(df.chol)"
   ]
  },
  {
   "cell_type": "markdown",
   "metadata": {},
   "source": [
    "U slučaju značajke **fbs**:\n",
    "- ovdje nedostajajuće vrijednosti ne možemo zamijeniti srednjom vrijednosti budući da značajka poprima samo binarne vrijednosti (0 ili 1)\n",
    "- izbacivanjem tih zapisa gubimo oko 10% podataka, također, to nije opcija ako podatci nisu MAR (Missing At Random) ili MCAR (Missing Completely At Random)\n",
    "- izbacivanje značajke nije moguće, razina šećera je važan faktor u predviđanju zatajenja srca\n",
    "- interpolacija nema smisla\n",
    "- ovdje možemo nedostajajuće podatke zamijeniti najčešće korištenom vrijednošću ove značajke, predvidjeti linearnom regresijom ili KNN metodom "
   ]
  },
  {
   "cell_type": "markdown",
   "metadata": {},
   "source": [
    "U slučaju značajke **restecg**:\n",
    "- ovdje nedostajajuće vrijednosti ne možemo zamijeniti srednjom vrijednosti budući da značajka poprima samo vrijednost 0, 1 ili 2\n",
    "- izbacivanjem tih zapisa gubimo manje od 1% podataka, a budući da u ovom slučaju izgleda kao da su to MAR/MCAR podatci, najbolja opcija je izbrisati ove zapise.\n",
    "- izbacivanje značajke nije moguće, ekg je ključan faktor u predviđanju zatajenja srca\n",
    "- interpolacija nema smisla"
   ]
  },
  {
   "cell_type": "markdown",
   "metadata": {},
   "source": [
    "U slučaju značajke **thalch**:\n",
    "- značajka je numerička tako da nedostajajuće vrijednosti možemo zamijeniti srednjom vrijednošću podataka\n",
    "- izbacivanjem tih zapisa gubimo oko 6% podataka, također, to nije opcija ako podatci nisu MAR (Missing At Random) ili MCAR (Missing Completely At Random)\n",
    "- izbacivanje značajke nije moguće, otkucaji srca važan su faktor u predviđanju zatajenja srca\n",
    "- interpolacija nema smisla"
   ]
  },
  {
   "cell_type": "code",
   "execution_count": 146,
   "metadata": {},
   "outputs": [
    {
     "name": "stderr",
     "output_type": "stream",
     "text": [
      "/tmp/ipykernel_9700/3543623932.py:1: UserWarning: \n",
      "\n",
      "`distplot` is a deprecated function and will be removed in seaborn v0.14.0.\n",
      "\n",
      "Please adapt your code to use either `displot` (a figure-level function with\n",
      "similar flexibility) or `histplot` (an axes-level function for histograms).\n",
      "\n",
      "For a guide to updating your code to use the new functions, please see\n",
      "https://gist.github.com/mwaskom/de44147ed2974457ad6372750bbe5751\n",
      "\n",
      "  sns.distplot(df.thalch)\n",
      "/home/lucija/miniconda3/envs/myenv/lib/python3.10/site-packages/seaborn/_oldcore.py:1498: FutureWarning: is_categorical_dtype is deprecated and will be removed in a future version. Use isinstance(dtype, CategoricalDtype) instead\n",
      "  if pd.api.types.is_categorical_dtype(vector):\n",
      "/home/lucija/miniconda3/envs/myenv/lib/python3.10/site-packages/seaborn/_oldcore.py:1119: FutureWarning: use_inf_as_na option is deprecated and will be removed in a future version. Convert inf values to NaN before operating instead.\n",
      "  with pd.option_context('mode.use_inf_as_na', True):\n"
     ]
    },
    {
     "data": {
      "text/plain": [
       "<Axes: xlabel='thalch', ylabel='Density'>"
      ]
     },
     "execution_count": 146,
     "metadata": {},
     "output_type": "execute_result"
    },
    {
     "data": {
      "image/png": "[encoded data removed]",
      "text/plain": [
       "<Figure size 640x480 with 1 Axes>"
      ]
     },
     "metadata": {},
     "output_type": "display_data"
    }
   ],
   "source": [
    "sns.distplot(df.thalch)"
   ]
  },
  {
   "cell_type": "markdown",
   "metadata": {},
   "source": [
    "U slučaju značajke **exang**:\n",
    "- ovdje nedostajajuće vrijednosti ne možemo zamijeniti srednjom vrijednosti budući da značajka poprima samo binarne vrijednosti (0 ili 1)\n",
    "- izbacivanjem tih zapisa gubimo oko 6% podataka, također, to nije opcija ako podatci nisu MAR (Missing At Random) ili MCAR (Missing Completely At Random)\n",
    "- s obzirom da su angine predstadij infarkta, ne možemo izbaciti ovu značajku\n",
    "- interpolacija nema smisla\n",
    "- ovdje možemo nedostajajuće podatke zamijeniti najčešće korištenom vrijednošću ove značajke, predvidjeti linearnom regresijom ili KNN metodom "
   ]
  },
  {
   "cell_type": "markdown",
   "metadata": {},
   "source": [
    "U slučaju značajke **oldpeak**:\n",
    "- značajka je numerička tako da nedostajajuće vrijednosti možemo zamijeniti srednom vrijednosti podataka\n",
    "- izbacivanjem tih zapisa gubimo oko 6,8% podataka, također, to nije opcija ako podatci nisu MAR (Missing At Random) ili MCAR (Missing Completely At Random)\n",
    "- značajka nije ključna za previđanje zatajenja srca pa ju je moguće i izbaciti\n",
    "- interpolacija nema smisla"
   ]
  },
  {
   "cell_type": "code",
   "execution_count": 147,
   "metadata": {},
   "outputs": [
    {
     "name": "stderr",
     "output_type": "stream",
     "text": [
      "/tmp/ipykernel_9700/1356206634.py:1: UserWarning: \n",
      "\n",
      "`distplot` is a deprecated function and will be removed in seaborn v0.14.0.\n",
      "\n",
      "Please adapt your code to use either `displot` (a figure-level function with\n",
      "similar flexibility) or `histplot` (an axes-level function for histograms).\n",
      "\n",
      "For a guide to updating your code to use the new functions, please see\n",
      "https://gist.github.com/mwaskom/de44147ed2974457ad6372750bbe5751\n",
      "\n",
      "  sns.distplot(df.oldpeak)\n",
      "/home/lucija/miniconda3/envs/myenv/lib/python3.10/site-packages/seaborn/_oldcore.py:1498: FutureWarning: is_categorical_dtype is deprecated and will be removed in a future version. Use isinstance(dtype, CategoricalDtype) instead\n",
      "  if pd.api.types.is_categorical_dtype(vector):\n",
      "/home/lucija/miniconda3/envs/myenv/lib/python3.10/site-packages/seaborn/_oldcore.py:1119: FutureWarning: use_inf_as_na option is deprecated and will be removed in a future version. Convert inf values to NaN before operating instead.\n",
      "  with pd.option_context('mode.use_inf_as_na', True):\n"
     ]
    },
    {
     "data": {
      "text/plain": [
       "<Axes: xlabel='oldpeak', ylabel='Density'>"
      ]
     },
     "execution_count": 147,
     "metadata": {},
     "output_type": "execute_result"
    },
    {
     "data": {
      "image/png": "[encoded data removed]",
      "text/plain": [
       "<Figure size 640x480 with 1 Axes>"
      ]
     },
     "metadata": {},
     "output_type": "display_data"
    }
   ],
   "source": [
    "sns.distplot(df.oldpeak)"
   ]
  },
  {
   "cell_type": "markdown",
   "metadata": {},
   "source": [
    "U slučaju značajke **slope**:\n",
    "- ovdje nedostajajuće vrijednosti ne možemo zamijeniti srednjom vrijednosti budući da značajka poprima vrijednosti 1, 2, 3\n",
    "- izbacivanjem tih zapisa gubimo oko 33,6% podataka, također, to nije opcija ako podatci nisu MAR (Missing At Random) ili MCAR (Missing Completely At Random)\n",
    "- s obzirom da ljudi sa zatajenjem srca puno gore podnose napore, ovo je važna značajka koju ne bi bilo pametno izbaciti\n",
    "- interpolacija nema smisla\n",
    "- ovdje možemo nedostajajuće podatke zamijeniti najčešće korištenom vrijednošću ove značajke, predvidjeti linearnom regresijom ili KNN metodom"
   ]
  },
  {
   "cell_type": "markdown",
   "metadata": {},
   "source": [
    "U slučaju značajke **ca**:\n",
    "- ovdje nedostajajuće vrijednosti ne možemo zamijeniti srednjom vrijednosti budući da značajka poprima samo vrijednosti 0, 1, 2, 3\n",
    "- izbacivanjem tih zapisa gubimo oko 66,5% podataka, također, to nije opcija ako podatci nisu MAR (Missing At Random) ili MCAR (Missing Completely At Random)\n",
    "- s obzirom da se ovim putem može vidjeti začepljenje krvnih žila, značajka je jako bitna, ali u našem slučaju, uz više od 66% nedostajajućih podataka, možda je moguća i uspješna predikcija bez nje\n",
    "- interpolacija nema smisla\n",
    "- ovdje možemo nedostajajuće podatke zamijeniti najčešće korištenom vrijednošću ove značajke, predvidjeti linearnom regresijom ili KNN metodom, ali uz upitnu uspješnost s obzirom na malen broja podataka koji imamo dostupan za treniranje"
   ]
  },
  {
   "cell_type": "markdown",
   "metadata": {},
   "source": [
    "U slučaju značajke **thal**:\n",
    "- ovdje nedostajajuće vrijednosti ne možemo zamijeniti srednjom vrijednosti budući da značajka poprima samo vrijednosti 0, 1, 2, 3\n",
    "- izbacivanjem tih zapisa gubimo oko 53% podataka, također, to nije opcija ako podatci nisu MAR (Missing At Random) ili MCAR (Missing Completely At Random)\n",
    "- kao i kod značajke **ca**, s obzirom na broj nedostajajućih vrijednosti, možda je bolje izbaciti ovu značajku iako ima velik utjecaj na procjenu zatajenja srca \n",
    "- interpolacija nema smisla\n",
    "- ovdje možemo nedostajajuće podatke zamijeniti najčešće korištenom vrijednošću ove značajke, predvidjeti linearnom regresijom ili KNN metodom, također uz upitnu korisnost/uspješnost s obzirom na malen skup podataka za treniranje modela"
   ]
  },
  {
   "cell_type": "markdown",
   "metadata": {},
   "source": [
    "Nakon razmatranja individualnih značajki, a zatim i njihove usporedbe na grafu, moguće je uočiti da značajke **trestbps**, **thalch**, **exang** i **oldpeak** imaju skoro jednak broj nedostajajućih značajki na istim mjestima, zbog čega je možda najbolje rješenje izbaciti te zapise, ali čisto vježbe radi, pokušat ću nadopuniti vrijednosti nedostajajućih podataka.\n",
    "\n",
    "U idućoj fazi projekta, kada budem trenirala modele, mogu provjeriti točnost na različitim skupovima podataka, ovisno o tome jesam li izbacila određene zapise/značajke ili sam im nadopunila vrijednosti.\n"
   ]
  },
  {
   "cell_type": "code",
   "execution_count": 148,
   "metadata": {},
   "outputs": [],
   "source": [
    "df2 = df.copy()\n",
    "\n",
    "# trestbps - ubacivanje srednje vrijednosti gdje nedostaju podatci\n",
    "df2.loc[df2.trestbps.isna(),'trestbps'] = df2.loc[:,'trestbps'].mean()\n",
    "\n",
    "# chol - ubacivanje srednje vrijednosti\n",
    "df2.loc[df2.chol.isna(),'chol'] = df2.loc[:,'chol'].mean()\n",
    "\n",
    "# fbs - zamjena najčešće korištenom vrijednošću ili predikcija uz KNN ili LR\n",
    "mode_val = df2[df2.fbs.notna()]['fbs'].mode()[0]\n",
    "df2['fbs'] = df2['fbs'].fillna(mode_val)\n",
    "         \n",
    "# restecg - brisanje zapisa koji sadržavaju nedostajajuće vrijednosti \n",
    "df2 = df2.loc[df2.restecg.notnull(), :] \n",
    "  \n",
    "# thalch - ubacivanje srednje vrijednosti    \n",
    "df2.loc[df2.thalch.isna(),'thalch'] = df2.loc[:,'thalch'].mean()\n",
    "\n",
    "# oldpeak - izbacivanje ili srednja vrijednost \n",
    "df2.loc[df2.oldpeak.isna(),'oldpeak'] = df2.loc[:,'oldpeak'].mean() \n",
    "#df2.drop(['oldpeak'], axis=1, inplace=True)   \n"
   ]
  },
  {
   "cell_type": "code",
   "execution_count": 149,
   "metadata": {},
   "outputs": [
    {
     "name": "stdout",
     "output_type": "stream",
     "text": [
      "     exang  num\n",
      "0      0.0  0.0\n",
      "1      1.0  2.0\n",
      "2      1.0  1.0\n",
      "3      0.0  0.0\n",
      "4      0.0  0.0\n",
      "..     ...  ...\n",
      "913    0.0  1.0\n",
      "914    0.0  0.0\n",
      "915    0.0  2.0\n",
      "916    0.0  0.0\n",
      "917    1.0  1.0\n",
      "\n",
      "[918 rows x 2 columns]\n"
     ]
    }
   ],
   "source": [
    "# exang - zamjena, ili predikcija uz knn, LR  \n",
    "# Tu ću napraviti predikciju uz KNN, koristeći samo numeričke značajke\n",
    "df_knn = df2[['age', 'trestbps', 'chol', 'fbs', 'thalch', 'exang', 'oldpeak', 'ca', 'num']] \n",
    "\n",
    "cols = ['exang', 'num']\n",
    "\n",
    "# Definiranje KNN imputera sa susjedima\n",
    "from sklearn.impute import KNNImputer\n",
    "knn = KNNImputer(n_neighbors=5)\n",
    "\n",
    "knn.fit_transform(df_knn[cols])\n",
    "df_wcols = pd.DataFrame(knn.transform(df_knn[cols]),columns=['exang', 'num'])\n",
    "\n",
    "print(df_wcols)\n",
    "\n",
    "df2['exang'] = df_wcols['exang']"
   ]
  },
  {
   "cell_type": "code",
   "execution_count": 150,
   "metadata": {},
   "outputs": [
    {
     "data": {
      "text/plain": [
       "age           0\n",
       "sex           0\n",
       "cp            0\n",
       "trestbps      0\n",
       "chol          0\n",
       "fbs           0\n",
       "restecg       0\n",
       "thalch        0\n",
       "exang         0\n",
       "oldpeak       0\n",
       "slope       306\n",
       "ca          607\n",
       "thal        482\n",
       "num           0\n",
       "dtype: int64"
      ]
     },
     "execution_count": 150,
     "metadata": {},
     "output_type": "execute_result"
    }
   ],
   "source": [
    "df2 = df2.loc[df2.exang.notnull(), :]\n",
    "df2.isna().sum()"
   ]
  },
  {
   "cell_type": "code",
   "execution_count": 151,
   "metadata": {},
   "outputs": [
    {
     "name": "stdout",
     "output_type": "stream",
     "text": [
      "     age    trestbps   chol    fbs      thalch  exang   oldpeak  num\n",
      "166   52  138.000000  223.0  False  169.000000    0.0  0.000000    0\n",
      "192   43  132.000000  247.0   True  143.000000    1.0  0.100000    1\n",
      "287   58  125.000000  220.0  False  144.000000    0.0  0.400000    0\n",
      "302   38  138.000000  175.0  False  173.000000    0.0  0.000000    0\n",
      "303   28  130.000000  132.0  False  185.000000    0.0  0.000000    0\n",
      "..   ...         ...    ...    ...         ...    ...       ...  ...\n",
      "913   62  158.000000  170.0  False  138.000000    0.0  0.000000    1\n",
      "914   46  134.000000  310.0  False  126.000000    0.0  0.000000    2\n",
      "915   54  127.000000  333.0   True  154.000000    0.0  0.000000    1\n",
      "916   62  132.132404  139.0  False  137.528389    0.0  0.880607    0\n",
      "917   55  122.000000  223.0   True  100.000000    1.0  0.000000    2\n",
      "\n",
      "[607 rows x 8 columns]\n"
     ]
    },
    {
     "data": {
      "text/plain": [
       "array([ 2.24714936e-01,  4.46221908e-01,  4.40858342e-01, -1.94489745e-01,\n",
       "       -4.54285342e-01, -3.98244533e-01, -4.71957433e-01, -5.57103782e-01,\n",
       "       -2.71313472e-01, -2.48755347e-01, -2.47585637e-01, -3.32127757e-01,\n",
       "       -2.49243704e-01, -2.67329661e-01, -3.62577107e-01, -1.73640679e-01,\n",
       "       -2.02801341e-01, -3.15043796e-01, -1.93329152e-01, -3.27858476e-01,\n",
       "       -1.77161027e-01, -1.00314411e-01, -2.14501678e-01, -3.04157169e-01,\n",
       "       -1.86462840e-01, -2.19176227e-01, -1.82299536e-01, -2.54698796e-01,\n",
       "       -2.13095263e-01, -1.53351260e-01, -1.93681123e-01, -1.56091243e-01,\n",
       "       -2.12820246e-01, -2.52394137e-01, -4.63875139e-02, -6.80773861e-02,\n",
       "       -2.04513216e-01, -1.17616383e-01, -1.81787005e-01, -4.28643686e-01,\n",
       "       -8.04372575e-02, -1.99740763e-02, -8.39360842e-02, -1.52056297e-01,\n",
       "       -1.15605957e-01, -1.32578139e-01, -1.32988175e-01, -9.86139096e-02,\n",
       "       -1.25814184e-01, -1.67284196e-02, -4.57652299e-02, -8.86167040e-02,\n",
       "       -3.49536641e-02, -2.49128749e-02, -7.23083192e-02, -2.46412850e-02,\n",
       "       -1.52180448e-02, -2.38988504e-02, -1.88784558e-02, -1.49151441e-01,\n",
       "       -1.07607065e-01, -1.90752132e-01, -6.80668742e-02,  8.00027831e-02,\n",
       "        2.09534864e-02,  3.19604479e-02,  3.62108655e-02, -1.81416996e-02,\n",
       "       -1.09808506e-01, -8.82658167e-02, -9.15749952e-02,  4.21214777e-03,\n",
       "        5.15158564e-02, -1.63333905e-02, -4.26383310e-02,  4.94700797e-02,\n",
       "       -1.42356098e-01,  2.22530148e-02,  2.09234308e-01, -3.18968675e-02,\n",
       "        5.89120394e-02, -1.64515043e-02,  2.21990455e-03, -8.68760569e-02,\n",
       "        9.89372160e-02, -5.90538089e-02,  2.86283161e-02,  1.29813395e-01,\n",
       "       -1.62580848e-01,  6.23455455e-02,  1.30495016e-01,  1.70225041e-01,\n",
       "       -3.07358576e-03,  1.51416367e-01,  1.55251425e-01,  4.00724669e-01,\n",
       "        1.34967125e-01,  1.31195353e-01,  2.72896455e-01,  1.22414288e-01,\n",
       "       -8.05705624e-02,  1.86587268e-01,  1.30252008e-01,  4.94632146e-02,\n",
       "        1.84856172e-01,  2.34836633e-01,  2.34836633e-01,  1.83488945e-01,\n",
       "        1.32332523e-01,  2.93121746e-01,  1.26556836e-01,  2.02218133e-01,\n",
       "        8.71806903e-02,  2.50520182e-01,  8.83476588e-02,  1.57315642e-01,\n",
       "       -1.41869904e-02,  1.15119822e-01, -3.68221376e-02,  1.05949179e-01,\n",
       "        2.55112744e-01,  1.41030073e-01,  1.10082622e-01,  2.19708820e-01,\n",
       "        2.08232036e-01,  1.55612660e-01,  2.74400629e-01,  1.86498321e-01,\n",
       "        2.51919845e-01,  1.35483499e-01,  2.52587342e-01,  4.94758854e-02,\n",
       "        1.31203023e-01,  2.21245723e-01,  3.36636599e-01,  1.43477040e-01,\n",
       "        2.93094125e-01,  2.87791290e-01,  2.49303687e-01,  2.95115684e-01,\n",
       "        2.06590190e-01,  2.62018789e-01,  2.35106137e-01,  3.50106668e-01,\n",
       "        5.75310375e-01,  3.78976962e-01,  3.05524407e-01,  2.56889163e-01,\n",
       "        2.00037755e-01,  1.68396040e-01,  3.68832404e-01,  3.67754670e-01,\n",
       "        3.42674044e-01,  3.00967972e-01,  1.81613854e-01,  2.11164161e-01,\n",
       "        3.24232737e-01,  1.89331758e-01,  2.41464838e-01,  4.28160159e-01,\n",
       "        3.73536993e-01,  3.44208045e-01,  6.04813897e-01,  2.85513508e-01,\n",
       "        2.83118743e-01,  4.21686805e-01,  3.51514063e-01,  3.62137516e-01,\n",
       "        1.36831736e-01,  3.70703850e-01,  3.05534597e-01,  3.20512497e-01,\n",
       "        2.40463634e-01,  3.74151100e-01,  3.69994068e-01,  7.25543204e-02,\n",
       "        5.88743548e-01,  4.18026131e-01,  3.81437812e-01,  3.83188646e-01,\n",
       "        3.49199428e-01,  4.43276774e-01,  4.13856756e-01,  3.26461411e-01,\n",
       "        2.00178171e-01,  5.04430394e-01,  3.83918138e-01,  3.74157878e-01,\n",
       "        3.82484704e-01,  5.28427084e-01, -6.56721015e-02,  5.57559693e-02,\n",
       "        4.86456860e-02,  1.68367496e-01,  2.52531840e-01,  6.23404335e-03,\n",
       "        2.77238389e-01,  2.49844871e-01,  2.45718792e-01,  2.09028359e-01,\n",
       "        3.79748830e-01,  2.03274737e-01,  1.62122041e-01,  3.75959468e-01,\n",
       "        4.43174771e-01,  3.44027661e-01,  3.05979570e-01,  7.91276300e-01,\n",
       "        5.42542291e-01,  2.23436832e-01,  4.21504058e-01,  6.01577174e-01,\n",
       "        5.31703107e-01,  3.75472327e-01,  4.88539545e-01,  3.61857051e-01,\n",
       "        4.98460728e-01,  6.72927333e-01,  7.05366553e-01,  5.80417248e-01,\n",
       "        6.11813712e-01,  7.72406399e-01,  9.62911489e-01,  9.64297072e-01,\n",
       "        8.19546967e-01,  1.05806845e+00,  6.36782881e-02,  1.61102076e-01,\n",
       "        2.99795094e-01,  2.11982101e-01,  3.85671797e-01,  2.73798924e-01,\n",
       "        3.05406919e-01,  3.87590614e-01,  6.91280249e-01,  2.64269167e-01,\n",
       "        2.30971745e-01,  2.52502832e-01,  4.40423557e-01,  6.39303291e-01,\n",
       "        3.31235542e-01,  5.17036001e-01,  6.15661949e-01,  5.07359203e-01,\n",
       "        8.21988027e-01,  4.65197564e-01,  2.99916817e-01,  5.48176694e-01,\n",
       "        7.64954196e-01,  5.69159374e-01,  8.54104762e-01,  7.00767444e-01,\n",
       "        2.99742737e-01,  2.39682233e-01,  2.39801787e-01,  2.46330045e-01,\n",
       "        7.09648742e-01,  7.03128644e-01,  3.22349197e-01,  3.95482986e-01,\n",
       "        3.64889257e-01,  5.96987510e-01,  5.33288334e-01,  4.71337436e-01,\n",
       "        4.80052612e-01,  3.94154349e-01,  5.83434989e-01,  3.24062881e-01,\n",
       "        6.16573765e-01,  7.45034665e-01,  6.33343249e-01,  6.67234398e-01,\n",
       "        5.30966954e-01,  4.77433971e-01,  7.53394904e-01,  6.60958766e-01,\n",
       "        8.68794691e-01,  9.71617747e-01,  8.25202467e-01,  2.42575260e-01,\n",
       "        3.35988708e-01,  2.30714006e-01,  3.65414355e-01,  2.97914078e-01,\n",
       "        4.68753706e-01,  3.31309775e-01,  4.92575292e-01,  4.27416633e-01,\n",
       "        4.76373755e-01,  3.77168954e-01,  4.96550158e-01,  8.30815513e-01,\n",
       "        4.62021057e-01,  9.87997286e-01, -7.67901961e-03,  7.99265625e-01,\n",
       "        1.83465189e-01,  7.12422340e-01,  1.23133219e-01, -8.22349556e-02,\n",
       "        7.63189586e-02,  5.09620763e-01,  7.72285131e-02,  5.96347147e-01,\n",
       "        5.77671007e-01,  3.24165197e-01,  4.14856609e-01,  1.04744891e+00,\n",
       "        1.51375933e+00,  6.41884145e-01, -5.31594494e-02,  3.15837495e-01,\n",
       "        3.37722684e-01,  4.82881472e-01,  9.33273451e-01,  9.28052343e-01,\n",
       "        2.88921563e-01,  7.40873741e-01,  2.39554952e-01,  1.17086392e+00,\n",
       "        1.17357630e+00,  4.69578266e-01,  9.72086374e-01,  1.67243170e+00,\n",
       "        1.52570079e+00,  9.20087160e-01,  5.64817475e-01,  7.91490729e-01,\n",
       "        9.61683307e-01,  7.93354875e-01,  8.30340226e-01,  8.06846497e-01,\n",
       "        1.04225176e+00,  1.32986213e+00,  1.09053905e-01,  6.77163096e-01,\n",
       "        4.66317321e-01,  4.97129892e-01,  1.61116201e+00,  9.87760029e-01,\n",
       "        3.59028252e-01,  1.05199874e+00,  1.40823314e+00,  4.80891577e-01,\n",
       "        2.71480938e-01,  7.38443794e-01,  1.75977506e+00,  9.33246747e-01,\n",
       "        3.24425059e-01,  9.87918430e-01,  7.93721065e-01,  6.70880793e-01,\n",
       "        9.08639613e-01,  9.79502380e-01,  1.67891408e+00,  5.52769633e-01,\n",
       "        7.10416169e-01,  9.52273457e-01,  1.37511171e+00,  9.77419172e-01,\n",
       "        7.92613997e-01,  6.95989698e-01,  1.83476292e+00,  5.59779500e-01,\n",
       "        8.99044261e-01,  1.42227377e+00,  1.03730643e+00,  8.03292618e-01,\n",
       "        7.62318765e-01,  8.07184254e-01,  1.46109722e+00,  1.39694195e+00,\n",
       "        5.85893315e-01,  1.22831387e+00,  8.22707268e-01,  9.28883071e-01,\n",
       "        1.55883644e+00,  1.42319473e+00,  1.44781338e+00,  7.28571465e-01,\n",
       "        1.15487779e+00,  1.23923497e+00,  1.20038706e+00,  8.10703570e-01,\n",
       "        1.29287594e+00,  1.34612147e+00,  8.52814109e-01,  1.51279079e+00,\n",
       "        8.42446670e-01,  1.28511148e+00,  1.42488814e+00,  1.53222497e+00,\n",
       "        6.43113836e-01,  1.28456558e+00,  9.75916215e-01,  1.01705961e+00,\n",
       "        9.75012507e-01,  1.58416674e+00,  5.34491501e-01,  1.69933045e+00,\n",
       "        8.43746672e-01,  1.53579096e+00,  1.31266597e+00,  1.74296799e+00,\n",
       "        9.56327742e-01,  9.25642045e-01,  1.69720409e+00,  1.12348593e+00,\n",
       "        2.11465173e+00,  9.37593419e-01,  1.18615106e+00,  1.17351913e+00,\n",
       "       -1.50150424e-01,  1.10169841e+00,  7.06709115e-01,  8.38667503e-01,\n",
       "        5.07732809e-01,  1.72368982e+00,  2.84886798e-01,  1.63253045e+00,\n",
       "        8.68791090e-01,  2.32724625e-01,  6.94261916e-01,  8.17945166e-01,\n",
       "        9.12037178e-01,  8.83508954e-01,  3.88873843e-01,  1.86438184e+00,\n",
       "        4.04152711e-01,  5.68888835e-01,  3.37644365e-01,  1.05645531e+00,\n",
       "        1.23386257e+00,  1.60462241e+00,  8.75125569e-01,  1.03317085e+00,\n",
       "        1.58158320e+00,  1.04047246e+00,  1.01345128e+00,  1.30080403e+00,\n",
       "        1.24888753e+00,  2.11138996e+00,  1.64829227e+00,  1.83360469e+00,\n",
       "        9.64807174e-01,  1.48874803e+00,  1.16499484e+00,  4.02261878e-01,\n",
       "        9.03623066e-01,  1.55448281e+00,  5.04690348e-01,  1.74577717e+00,\n",
       "       -1.72586396e-01,  1.97791621e+00,  1.18914007e+00,  7.20037803e-01,\n",
       "        1.52989067e-01,  1.05090007e+00, -6.53834305e-02,  6.23037666e-01,\n",
       "        5.46360097e-01,  1.16251768e+00,  5.62484738e-01,  4.59875247e-01,\n",
       "        1.37333369e+00,  9.09893818e-01,  1.70567051e+00,  5.16472327e-01,\n",
       "        6.93908732e-01,  3.30180853e-01,  1.17893234e+00,  6.83240757e-01,\n",
       "        1.67571805e+00,  1.40033616e+00,  1.32125685e+00,  1.97432384e+00,\n",
       "        7.45144063e-01,  9.71812718e-01,  1.05441456e+00,  7.03428160e-01,\n",
       "        9.96119912e-01,  5.04969304e-01,  1.43471329e+00,  1.94968590e+00,\n",
       "        1.26199818e+00,  8.01393453e-01,  1.19197746e+00,  1.18301379e+00,\n",
       "        8.09350868e-01,  4.99875471e-01,  1.12292482e+00,  1.41665910e+00,\n",
       "        1.13532208e+00,  2.03086928e+00,  1.34381416e+00,  1.71600880e+00,\n",
       "        4.06358732e-01,  9.48832946e-01,  8.18017679e-01,  2.03580745e+00,\n",
       "       -9.16134171e-02,  2.08509803e+00,  6.95608960e-01,  4.75537145e-01,\n",
       "        1.65997680e+00, -2.74942096e-01,  9.98769646e-01,  3.28114213e-01,\n",
       "        7.49874873e-01,  1.10410432e+00,  1.52793240e+00,  5.59288413e-01,\n",
       "        9.45917694e-01,  4.62184068e-01,  1.60740187e+00,  4.96267510e-01,\n",
       "        8.27009809e-01,  1.67162636e-01,  3.11818981e-02,  1.65800313e+00,\n",
       "        4.63721681e-01,  1.18847665e+00,  1.12610502e+00,  5.44558720e-01,\n",
       "        1.82425542e+00,  1.18592659e+00,  1.36925757e+00,  1.58567519e+00,\n",
       "        5.77308912e-01,  1.36923793e+00,  2.24254312e+00,  8.70524258e-01,\n",
       "        4.15807046e-01,  7.76345447e-01,  2.44994929e+00,  5.04576555e-01,\n",
       "        1.39939679e+00,  6.92657442e-01,  1.24323429e-01,  7.34456974e-01,\n",
       "        1.78978173e+00,  1.12414502e+00,  9.60211983e-01,  1.16151987e+00,\n",
       "        4.39079393e-01,  1.90384591e+00,  2.11443757e+00,  3.17022561e-01,\n",
       "        9.88089474e-01,  1.04933480e+00,  1.94136185e+00,  1.15069060e+00,\n",
       "        2.10013726e+00,  1.71469588e-01,  2.44748950e-01,  3.39992645e-01,\n",
       "        8.64261923e-01,  1.61375406e+00,  1.48631415e+00, -2.84865368e-01,\n",
       "        1.74342484e+00,  1.38601607e-01,  5.79588778e-01,  9.90443088e-01,\n",
       "        1.72320562e+00,  1.21868018e+00,  1.66032772e+00,  1.59874194e+00,\n",
       "        9.01685836e-01,  1.90514104e+00,  1.72328585e+00,  1.37022732e+00,\n",
       "        1.97205178e+00,  6.94034799e-01,  1.21910473e+00,  1.66654861e+00,\n",
       "        7.51869986e-01,  1.45258807e+00,  7.98887732e-01,  5.55757069e-01,\n",
       "       -1.22170168e-01,  1.76543215e+00,  1.41588065e+00,  4.36788065e-01,\n",
       "        4.96459339e-01,  1.90897448e+00,  1.43351500e+00,  1.63460280e+00,\n",
       "        1.08875961e+00,  6.14966413e-01,  3.26497356e-01,  6.27186399e-01,\n",
       "        9.04619352e-01,  2.32790990e-01,  7.54187055e-01,  1.47890671e+00,\n",
       "        9.12781149e-01,  1.53649980e+00,  8.25773791e-01,  3.68620089e-01,\n",
       "        2.03834075e+00,  1.57946053e+00,  7.75091958e-01,  7.59460328e-01,\n",
       "        9.36760049e-01,  5.29902121e-01,  1.16383196e+00])"
      ]
     },
     "execution_count": 151,
     "metadata": {},
     "output_type": "execute_result"
    }
   ],
   "source": [
    "#ca - zamjena ili predikcija uz KNN, LR ili izbacivanje značajke   \n",
    "#Tu ću napraviti predikciju uz Linear Regression\n",
    "df_lr = df2[['age', 'trestbps', 'chol', 'fbs', 'thalch', 'exang', 'oldpeak', 'ca', 'num']]\n",
    "\n",
    "train_data = df_lr[df_lr['ca'].notna()]\n",
    "test_data = df_lr[df_lr['ca'].isnull()]\n",
    "\n",
    "X_train= train_data.drop('ca',axis=1)\n",
    "y_train = train_data['ca']\n",
    "\n",
    "X_test = test_data.drop('ca',axis=1)\n",
    "y_test = test_data['ca']\n",
    "print(X_test)\n",
    "\n",
    "from sklearn.linear_model import LinearRegression\n",
    "model = LinearRegression()\n",
    "model.fit(X_train, y_train)\n",
    "\n",
    "y_pred = model.predict(X_test)\n",
    "y_pred"
   ]
  },
  {
   "cell_type": "code",
   "execution_count": 152,
   "metadata": {},
   "outputs": [
    {
     "data": {
      "text/plain": [
       "age           0\n",
       "sex           0\n",
       "cp            0\n",
       "trestbps      0\n",
       "chol          0\n",
       "fbs           0\n",
       "restecg       0\n",
       "thalch        0\n",
       "exang         0\n",
       "oldpeak       0\n",
       "slope       306\n",
       "ca            0\n",
       "thal        482\n",
       "num           0\n",
       "dtype: int64"
      ]
     },
     "execution_count": 152,
     "metadata": {},
     "output_type": "execute_result"
    }
   ],
   "source": [
    "a = y_train.to_list()\n",
    "b = list(y_pred)\n",
    "a.extend(b)\n",
    "\n",
    "df2['ca'] = a\n",
    "\n"
   ]
  },
  {
   "cell_type": "code",
   "execution_count": 153,
   "metadata": {},
   "outputs": [
    {
     "data": {
      "text/plain": [
       "age         0\n",
       "sex         0\n",
       "cp          0\n",
       "trestbps    0\n",
       "chol        0\n",
       "fbs         0\n",
       "restecg     0\n",
       "thalch      0\n",
       "exang       0\n",
       "oldpeak     0\n",
       "ca          0\n",
       "num         0\n",
       "dtype: int64"
      ]
     },
     "execution_count": 153,
     "metadata": {},
     "output_type": "execute_result"
    }
   ],
   "source": [
    "#thal i slope- zamjena ili predikcija uz KNN, LR ili izbacivanje značajke\n",
    "# Ove dvije značajke ću za sada izbaciti. \n",
    "\n",
    "df2.drop(['thal'], axis=1, inplace=True)\n",
    "df2.drop(['slope'], axis=1, inplace=True)\n",
    "\n",
    "df2.isna().sum()\n"
   ]
  },
  {
   "cell_type": "markdown",
   "metadata": {},
   "source": [
    "Uspjeli smo se riješiti nedostajajućih podataka. "
   ]
  },
  {
   "cell_type": "markdown",
   "metadata": {},
   "source": [
    "#### Stršeći podatci"
   ]
  },
  {
   "cell_type": "code",
   "execution_count": 154,
   "metadata": {},
   "outputs": [
    {
     "data": {
      "text/html": [
       "<div>\n",
       "<style scoped>\n",
       "    .dataframe tbody tr th:only-of-type {\n",
       "        vertical-align: middle;\n",
       "    }\n",
       "\n",
       "    .dataframe tbody tr th {\n",
       "        vertical-align: top;\n",
       "    }\n",
       "\n",
       "    .dataframe thead th {\n",
       "        text-align: right;\n",
       "    }\n",
       "</style>\n",
       "<table border=\"1\" class=\"dataframe\">\n",
       "  <thead>\n",
       "    <tr style=\"text-align: right;\">\n",
       "      <th></th>\n",
       "      <th>age</th>\n",
       "      <th>trestbps</th>\n",
       "      <th>chol</th>\n",
       "      <th>thalch</th>\n",
       "      <th>exang</th>\n",
       "      <th>oldpeak</th>\n",
       "      <th>ca</th>\n",
       "      <th>num</th>\n",
       "    </tr>\n",
       "  </thead>\n",
       "  <tbody>\n",
       "    <tr>\n",
       "      <th>count</th>\n",
       "      <td>916.000000</td>\n",
       "      <td>916.000000</td>\n",
       "      <td>916.000000</td>\n",
       "      <td>916.000000</td>\n",
       "      <td>916.000000</td>\n",
       "      <td>916.000000</td>\n",
       "      <td>916.000000</td>\n",
       "      <td>916.000000</td>\n",
       "    </tr>\n",
       "    <tr>\n",
       "      <th>mean</th>\n",
       "      <td>53.516376</td>\n",
       "      <td>132.155764</td>\n",
       "      <td>198.980251</td>\n",
       "      <td>137.577001</td>\n",
       "      <td>0.382314</td>\n",
       "      <td>0.881569</td>\n",
       "      <td>0.635543</td>\n",
       "      <td>0.996725</td>\n",
       "    </tr>\n",
       "    <tr>\n",
       "      <th>std</th>\n",
       "      <td>9.417734</td>\n",
       "      <td>18.469286</td>\n",
       "      <td>108.762187</td>\n",
       "      <td>25.144351</td>\n",
       "      <td>0.477326</td>\n",
       "      <td>1.055033</td>\n",
       "      <td>0.721913</td>\n",
       "      <td>1.144715</td>\n",
       "    </tr>\n",
       "    <tr>\n",
       "      <th>min</th>\n",
       "      <td>28.000000</td>\n",
       "      <td>0.000000</td>\n",
       "      <td>0.000000</td>\n",
       "      <td>60.000000</td>\n",
       "      <td>0.000000</td>\n",
       "      <td>-2.600000</td>\n",
       "      <td>-0.557104</td>\n",
       "      <td>0.000000</td>\n",
       "    </tr>\n",
       "    <tr>\n",
       "      <th>25%</th>\n",
       "      <td>47.000000</td>\n",
       "      <td>120.000000</td>\n",
       "      <td>177.750000</td>\n",
       "      <td>120.000000</td>\n",
       "      <td>0.000000</td>\n",
       "      <td>0.000000</td>\n",
       "      <td>0.000000</td>\n",
       "      <td>0.000000</td>\n",
       "    </tr>\n",
       "    <tr>\n",
       "      <th>50%</th>\n",
       "      <td>54.000000</td>\n",
       "      <td>130.000000</td>\n",
       "      <td>221.000000</td>\n",
       "      <td>138.000000</td>\n",
       "      <td>0.000000</td>\n",
       "      <td>0.800000</td>\n",
       "      <td>0.427788</td>\n",
       "      <td>1.000000</td>\n",
       "    </tr>\n",
       "    <tr>\n",
       "      <th>75%</th>\n",
       "      <td>60.000000</td>\n",
       "      <td>140.000000</td>\n",
       "      <td>266.250000</td>\n",
       "      <td>156.000000</td>\n",
       "      <td>1.000000</td>\n",
       "      <td>1.500000</td>\n",
       "      <td>1.000000</td>\n",
       "      <td>2.000000</td>\n",
       "    </tr>\n",
       "    <tr>\n",
       "      <th>max</th>\n",
       "      <td>77.000000</td>\n",
       "      <td>200.000000</td>\n",
       "      <td>603.000000</td>\n",
       "      <td>202.000000</td>\n",
       "      <td>1.000000</td>\n",
       "      <td>6.200000</td>\n",
       "      <td>3.000000</td>\n",
       "      <td>4.000000</td>\n",
       "    </tr>\n",
       "  </tbody>\n",
       "</table>\n",
       "</div>"
      ],
      "text/plain": [
       "              age    trestbps        chol      thalch       exang     oldpeak  \\\n",
       "count  916.000000  916.000000  916.000000  916.000000  916.000000  916.000000   \n",
       "mean    53.516376  132.155764  198.980251  137.577001    0.382314    0.881569   \n",
       "std      9.417734   18.469286  108.762187   25.144351    0.477326    1.055033   \n",
       "min     28.000000    0.000000    0.000000   60.000000    0.000000   -2.600000   \n",
       "25%     47.000000  120.000000  177.750000  120.000000    0.000000    0.000000   \n",
       "50%     54.000000  130.000000  221.000000  138.000000    0.000000    0.800000   \n",
       "75%     60.000000  140.000000  266.250000  156.000000    1.000000    1.500000   \n",
       "max     77.000000  200.000000  603.000000  202.000000    1.000000    6.200000   \n",
       "\n",
       "               ca         num  \n",
       "count  916.000000  916.000000  \n",
       "mean     0.635543    0.996725  \n",
       "std      0.721913    1.144715  \n",
       "min     -0.557104    0.000000  \n",
       "25%      0.000000    0.000000  \n",
       "50%      0.427788    1.000000  \n",
       "75%      1.000000    2.000000  \n",
       "max      3.000000    4.000000  "
      ]
     },
     "execution_count": 154,
     "metadata": {},
     "output_type": "execute_result"
    }
   ],
   "source": [
    "df2.describe()"
   ]
  },
  {
   "cell_type": "markdown",
   "metadata": {},
   "source": [
    "Na temelju ovog ispisa, može se uočiti nekoliko potencijalnih stršećih vrijednosti. **trestbps**, **chol**, **oldpeak**, **ca** i **num** svi imaju neobično visoke maksimalne vrijednosti."
   ]
  },
  {
   "cell_type": "markdown",
   "metadata": {},
   "source": [
    "Sada za svaku od značajki možemo proučiti outliere pomoću vizualizacije. "
   ]
  },
  {
   "cell_type": "code",
   "execution_count": 157,
   "metadata": {},
   "outputs": [
    {
     "name": "stderr",
     "output_type": "stream",
     "text": [
      "/home/lucija/miniconda3/envs/myenv/lib/python3.10/site-packages/seaborn/_oldcore.py:1498: FutureWarning: is_categorical_dtype is deprecated and will be removed in a future version. Use isinstance(dtype, CategoricalDtype) instead\n",
      "  if pd.api.types.is_categorical_dtype(vector):\n"
     ]
    },
    {
     "data": {
      "image/png": "[encoded data removed]",
      "text/plain": [
       "<Figure size 640x480 with 1 Axes>"
      ]
     },
     "metadata": {},
     "output_type": "display_data"
    }
   ],
   "source": [
    "sns.boxplot(x = df2['trestbps'], color = 'teal')\n",
    "plt.show()"
   ]
  },
  {
   "cell_type": "markdown",
   "metadata": {},
   "source": [
    "Očito je da postoji više stršećih vrijednosti. Možemo ih malo detaljnije proučiti."
   ]
  },
  {
   "cell_type": "code",
   "execution_count": 160,
   "metadata": {},
   "outputs": [
    {
     "name": "stdout",
     "output_type": "stream",
     "text": [
      "trestbps > 160: 43\n",
      "trestbps > 170: 26\n",
      "trestbps > 180: 8\n",
      "trestbps > 190: 5\n"
     ]
    }
   ],
   "source": [
    "# Prvo za visoke vrijednosti \n",
    "print(f'trestbps > 160: {(df2.trestbps>160).sum()}')\n",
    "print(f'trestbps > 170: {(df2.trestbps>170).sum()}')\n",
    "print(f'trestbps > 180: {(df2.trestbps>180).sum()}')\n",
    "print(f'trestbps > 190: {(df2.trestbps>190).sum()}')"
   ]
  },
  {
   "cell_type": "markdown",
   "metadata": {},
   "source": [
    "Postoji dosta zapisa visoke vrijednosti, a nema potrebe da ih uklanjam bez dobrog razloga. Sada možemo provjeriti isto za outliere nižih vrijednosti.\n"
   ]
  },
  {
   "cell_type": "code",
   "execution_count": 186,
   "metadata": {},
   "outputs": [
    {
     "name": "stdout",
     "output_type": "stream",
     "text": [
      "trestbps < 85: 2\n",
      "trestbps < 80: 1\n"
     ]
    },
    {
     "data": {
      "text/plain": [
       "644    80.0\n",
       "753     0.0\n",
       "Name: trestbps, dtype: float64"
      ]
     },
     "execution_count": 186,
     "metadata": {},
     "output_type": "execute_result"
    }
   ],
   "source": [
    "print(f'trestbps < 85: {(df2.trestbps<85).sum()}')\n",
    "print(f'trestbps < 80: {(df2.trestbps<80).sum()}')\n",
    "\n",
    "df2.loc[df2.trestbps < 85, 'trestbps']"
   ]
  },
  {
   "cell_type": "markdown",
   "metadata": {},
   "source": [
    "S obzirom da postoje samo 2 zapisa ispod donje granice, možemo ih proglasiti stršećim vrijednostima, međutim, za sada ih je nepotrebno brisati.\n",
    "\n",
    "Isto ćemo ponoviti za ostale koji imaju potencijala. "
   ]
  },
  {
   "cell_type": "code",
   "execution_count": 166,
   "metadata": {},
   "outputs": [
    {
     "name": "stderr",
     "output_type": "stream",
     "text": [
      "/home/lucija/miniconda3/envs/myenv/lib/python3.10/site-packages/seaborn/_oldcore.py:1498: FutureWarning: is_categorical_dtype is deprecated and will be removed in a future version. Use isinstance(dtype, CategoricalDtype) instead\n",
      "  if pd.api.types.is_categorical_dtype(vector):\n"
     ]
    },
    {
     "data": {
      "image/png": "[encoded data removed]",
      "text/plain": [
       "<Figure size 640x480 with 1 Axes>"
      ]
     },
     "metadata": {},
     "output_type": "display_data"
    }
   ],
   "source": [
    "sns.boxplot(x = df2['chol'], color = 'blue')\n",
    "plt.show()"
   ]
  },
  {
   "cell_type": "code",
   "execution_count": 184,
   "metadata": {},
   "outputs": [
    {
     "name": "stdout",
     "output_type": "stream",
     "text": [
      "chol < 85: 171\n",
      "chol == 0: 171\n",
      "chol > 350: 26\n",
      "chol > 370: 19\n",
      "chol > 390: 17\n",
      "chol > 410: 10\n",
      "chol > 450: 8\n"
     ]
    }
   ],
   "source": [
    "print(f'chol < 85: {(df2.chol<50).sum()}')\n",
    "print(f'chol == 0: {(df2.chol==0).sum()}')\n",
    "print(f'chol > 350: {(df2.chol>350).sum()}')\n",
    "print(f'chol > 370: {(df2.chol>370).sum()}')\n",
    "print(f'chol > 390: {(df2.chol>390).sum()}')\n",
    "print(f'chol > 410: {(df2.chol>410).sum()}')\n",
    "print(f'chol > 450: {(df2.chol>450).sum()}')"
   ]
  },
  {
   "cell_type": "markdown",
   "metadata": {},
   "source": [
    "Postoji 171 nul vrijednost i preko 20 zapisa većih od 'gornje granice'"
   ]
  },
  {
   "cell_type": "code",
   "execution_count": 187,
   "metadata": {},
   "outputs": [
    {
     "name": "stderr",
     "output_type": "stream",
     "text": [
      "/home/lucija/miniconda3/envs/myenv/lib/python3.10/site-packages/seaborn/_oldcore.py:1498: FutureWarning: is_categorical_dtype is deprecated and will be removed in a future version. Use isinstance(dtype, CategoricalDtype) instead\n",
      "  if pd.api.types.is_categorical_dtype(vector):\n"
     ]
    },
    {
     "data": {
      "image/png": "[encoded data removed]",
      "text/plain": [
       "<Figure size 640x480 with 1 Axes>"
      ]
     },
     "metadata": {},
     "output_type": "display_data"
    }
   ],
   "source": [
    "sns.boxplot(x = df2['oldpeak'], color = 'green')\n",
    "plt.show()"
   ]
  },
  {
   "cell_type": "code",
   "execution_count": 197,
   "metadata": {},
   "outputs": [
    {
     "name": "stdout",
     "output_type": "stream",
     "text": [
      "oldpeak < -2: 1\n",
      "oldpeak > 3.5: 20\n",
      "oldpeak > 3.8: 14\n",
      "oldpeak > 4.0: 6\n",
      "oldpeak > 5.0: 2\n",
      "oldpeak > 6.0: 1\n"
     ]
    }
   ],
   "source": [
    "print(f'oldpeak < -2: {(df2.oldpeak < -2).sum()}')\n",
    "print(f'oldpeak > 3.5: {(df2.oldpeak > 3.5).sum()}')\n",
    "print(f'oldpeak > 3.8: {(df2.oldpeak > 3.8).sum()}')\n",
    "print(f'oldpeak > 4.0: {(df2.oldpeak > 4.0).sum()}')\n",
    "print(f'oldpeak > 5.0: {(df2.oldpeak > 5.0).sum()}')\n",
    "print(f'oldpeak > 6.0: {(df2.oldpeak > 6.0).sum()}')"
   ]
  },
  {
   "cell_type": "code",
   "execution_count": 198,
   "metadata": {},
   "outputs": [
    {
     "name": "stderr",
     "output_type": "stream",
     "text": [
      "/home/lucija/miniconda3/envs/myenv/lib/python3.10/site-packages/seaborn/_oldcore.py:1498: FutureWarning: is_categorical_dtype is deprecated and will be removed in a future version. Use isinstance(dtype, CategoricalDtype) instead\n",
      "  if pd.api.types.is_categorical_dtype(vector):\n"
     ]
    },
    {
     "data": {
      "image/png": "[encoded data removed]",
      "text/plain": [
       "<Figure size 640x480 with 1 Axes>"
      ]
     },
     "metadata": {},
     "output_type": "display_data"
    }
   ],
   "source": [
    "sns.boxplot(x = df2['ca'], color = 'yellow')\n",
    "plt.show()"
   ]
  },
  {
   "cell_type": "code",
   "execution_count": 200,
   "metadata": {},
   "outputs": [
    {
     "name": "stdout",
     "output_type": "stream",
     "text": [
      "ca > 2.5: 20\n"
     ]
    }
   ],
   "source": [
    "print(f'ca > 2.5: {(df2.ca > 2.5).sum()}')"
   ]
  },
  {
   "cell_type": "code",
   "execution_count": 199,
   "metadata": {},
   "outputs": [
    {
     "name": "stderr",
     "output_type": "stream",
     "text": [
      "/home/lucija/miniconda3/envs/myenv/lib/python3.10/site-packages/seaborn/_oldcore.py:1498: FutureWarning: is_categorical_dtype is deprecated and will be removed in a future version. Use isinstance(dtype, CategoricalDtype) instead\n",
      "  if pd.api.types.is_categorical_dtype(vector):\n"
     ]
    },
    {
     "data": {
      "image/png": "[encoded data removed]",
      "text/plain": [
       "<Figure size 640x480 with 1 Axes>"
      ]
     },
     "metadata": {},
     "output_type": "display_data"
    }
   ],
   "source": [
    "sns.boxplot(x = df2['num'], color = 'red')\n",
    "plt.show()"
   ]
  },
  {
   "cell_type": "code",
   "execution_count": 201,
   "metadata": {},
   "outputs": [
    {
     "name": "stdout",
     "output_type": "stream",
     "text": [
      "num > 4.0: 0\n"
     ]
    }
   ],
   "source": [
    "print(f'num > 4.0: {(df2.num > 4.0).sum()}')"
   ]
  },
  {
   "cell_type": "markdown",
   "metadata": {},
   "source": [
    "Nema stršećih vrijednosti."
   ]
  },
  {
   "cell_type": "markdown",
   "metadata": {},
   "source": [
    "# Vizualizacija podataka"
   ]
  },
  {
   "cell_type": "code",
   "execution_count": 223,
   "metadata": {},
   "outputs": [
    {
     "data": {
      "image/png": "[encoded data removed]",
      "text/plain": [
       "<Figure size 640x480 with 1 Axes>"
      ]
     },
     "metadata": {},
     "output_type": "display_data"
    }
   ],
   "source": [
    "# Prikaz godina ispitanika\n",
    "plt.hist(df2.age, bins=30)\n",
    "plt.xlabel('Age')\n",
    "plt.ylabel('Count')\n",
    "plt.axvline(df2.age.mean(), color='k', linestyle='dashed', linewidth=2)\n",
    "plt.show()"
   ]
  },
  {
   "cell_type": "code",
   "execution_count": 242,
   "metadata": {},
   "outputs": [
    {
     "data": {
      "image/png": "[encoded data removed]",
      "text/plain": [
       "<Figure size 640x480 with 1 Axes>"
      ]
     },
     "metadata": {},
     "output_type": "display_data"
    }
   ],
   "source": [
    "count_per_sex = df['age'].value_counts()\n",
    "\n",
    "labels = count_per_sex.index\n",
    "sizes = count_per_sex.values\n",
    "\n",
    "plt.bar(labels, sizes)\n",
    "plt.axis('equal') \n",
    "plt.show()\n"
   ]
  },
  {
   "cell_type": "code",
   "execution_count": 238,
   "metadata": {},
   "outputs": [
    {
     "data": {
      "text/html": [
       "<div>\n",
       "<style scoped>\n",
       "    .dataframe tbody tr th:only-of-type {\n",
       "        vertical-align: middle;\n",
       "    }\n",
       "\n",
       "    .dataframe tbody tr th {\n",
       "        vertical-align: top;\n",
       "    }\n",
       "\n",
       "    .dataframe thead th {\n",
       "        text-align: right;\n",
       "    }\n",
       "</style>\n",
       "<table border=\"1\" class=\"dataframe\">\n",
       "  <thead>\n",
       "    <tr style=\"text-align: right;\">\n",
       "      <th></th>\n",
       "      <th>sex</th>\n",
       "      <th>cp</th>\n",
       "      <th>trestbps</th>\n",
       "      <th>chol</th>\n",
       "      <th>fbs</th>\n",
       "      <th>restecg</th>\n",
       "      <th>thalch</th>\n",
       "      <th>exang</th>\n",
       "      <th>oldpeak</th>\n",
       "      <th>ca</th>\n",
       "      <th>num</th>\n",
       "    </tr>\n",
       "    <tr>\n",
       "      <th>age</th>\n",
       "      <th></th>\n",
       "      <th></th>\n",
       "      <th></th>\n",
       "      <th></th>\n",
       "      <th></th>\n",
       "      <th></th>\n",
       "      <th></th>\n",
       "      <th></th>\n",
       "      <th></th>\n",
       "      <th></th>\n",
       "      <th></th>\n",
       "    </tr>\n",
       "  </thead>\n",
       "  <tbody>\n",
       "    <tr>\n",
       "      <th>28</th>\n",
       "      <td>1</td>\n",
       "      <td>1</td>\n",
       "      <td>1</td>\n",
       "      <td>1</td>\n",
       "      <td>1</td>\n",
       "      <td>1</td>\n",
       "      <td>1</td>\n",
       "      <td>1</td>\n",
       "      <td>1</td>\n",
       "      <td>1</td>\n",
       "      <td>1</td>\n",
       "    </tr>\n",
       "    <tr>\n",
       "      <th>29</th>\n",
       "      <td>3</td>\n",
       "      <td>3</td>\n",
       "      <td>3</td>\n",
       "      <td>3</td>\n",
       "      <td>3</td>\n",
       "      <td>3</td>\n",
       "      <td>3</td>\n",
       "      <td>3</td>\n",
       "      <td>3</td>\n",
       "      <td>3</td>\n",
       "      <td>3</td>\n",
       "    </tr>\n",
       "    <tr>\n",
       "      <th>30</th>\n",
       "      <td>1</td>\n",
       "      <td>1</td>\n",
       "      <td>1</td>\n",
       "      <td>1</td>\n",
       "      <td>1</td>\n",
       "      <td>1</td>\n",
       "      <td>1</td>\n",
       "      <td>1</td>\n",
       "      <td>1</td>\n",
       "      <td>1</td>\n",
       "      <td>1</td>\n",
       "    </tr>\n",
       "    <tr>\n",
       "      <th>31</th>\n",
       "      <td>2</td>\n",
       "      <td>2</td>\n",
       "      <td>2</td>\n",
       "      <td>2</td>\n",
       "      <td>2</td>\n",
       "      <td>2</td>\n",
       "      <td>2</td>\n",
       "      <td>2</td>\n",
       "      <td>2</td>\n",
       "      <td>2</td>\n",
       "      <td>2</td>\n",
       "    </tr>\n",
       "    <tr>\n",
       "      <th>32</th>\n",
       "      <td>5</td>\n",
       "      <td>5</td>\n",
       "      <td>5</td>\n",
       "      <td>5</td>\n",
       "      <td>5</td>\n",
       "      <td>5</td>\n",
       "      <td>5</td>\n",
       "      <td>5</td>\n",
       "      <td>5</td>\n",
       "      <td>5</td>\n",
       "      <td>5</td>\n",
       "    </tr>\n",
       "    <tr>\n",
       "      <th>33</th>\n",
       "      <td>2</td>\n",
       "      <td>2</td>\n",
       "      <td>2</td>\n",
       "      <td>2</td>\n",
       "      <td>2</td>\n",
       "      <td>2</td>\n",
       "      <td>2</td>\n",
       "      <td>2</td>\n",
       "      <td>2</td>\n",
       "      <td>2</td>\n",
       "      <td>2</td>\n",
       "    </tr>\n",
       "    <tr>\n",
       "      <th>34</th>\n",
       "      <td>6</td>\n",
       "      <td>6</td>\n",
       "      <td>6</td>\n",
       "      <td>6</td>\n",
       "      <td>6</td>\n",
       "      <td>6</td>\n",
       "      <td>6</td>\n",
       "      <td>6</td>\n",
       "      <td>6</td>\n",
       "      <td>6</td>\n",
       "      <td>6</td>\n",
       "    </tr>\n",
       "    <tr>\n",
       "      <th>35</th>\n",
       "      <td>11</td>\n",
       "      <td>11</td>\n",
       "      <td>11</td>\n",
       "      <td>11</td>\n",
       "      <td>11</td>\n",
       "      <td>11</td>\n",
       "      <td>11</td>\n",
       "      <td>11</td>\n",
       "      <td>11</td>\n",
       "      <td>11</td>\n",
       "      <td>11</td>\n",
       "    </tr>\n",
       "    <tr>\n",
       "      <th>36</th>\n",
       "      <td>6</td>\n",
       "      <td>6</td>\n",
       "      <td>6</td>\n",
       "      <td>6</td>\n",
       "      <td>6</td>\n",
       "      <td>6</td>\n",
       "      <td>6</td>\n",
       "      <td>6</td>\n",
       "      <td>6</td>\n",
       "      <td>6</td>\n",
       "      <td>6</td>\n",
       "    </tr>\n",
       "    <tr>\n",
       "      <th>37</th>\n",
       "      <td>11</td>\n",
       "      <td>11</td>\n",
       "      <td>11</td>\n",
       "      <td>11</td>\n",
       "      <td>11</td>\n",
       "      <td>11</td>\n",
       "      <td>11</td>\n",
       "      <td>11</td>\n",
       "      <td>11</td>\n",
       "      <td>11</td>\n",
       "      <td>11</td>\n",
       "    </tr>\n",
       "    <tr>\n",
       "      <th>38</th>\n",
       "      <td>16</td>\n",
       "      <td>16</td>\n",
       "      <td>16</td>\n",
       "      <td>16</td>\n",
       "      <td>16</td>\n",
       "      <td>16</td>\n",
       "      <td>16</td>\n",
       "      <td>16</td>\n",
       "      <td>16</td>\n",
       "      <td>16</td>\n",
       "      <td>16</td>\n",
       "    </tr>\n",
       "    <tr>\n",
       "      <th>39</th>\n",
       "      <td>15</td>\n",
       "      <td>15</td>\n",
       "      <td>15</td>\n",
       "      <td>15</td>\n",
       "      <td>15</td>\n",
       "      <td>15</td>\n",
       "      <td>15</td>\n",
       "      <td>15</td>\n",
       "      <td>15</td>\n",
       "      <td>15</td>\n",
       "      <td>15</td>\n",
       "    </tr>\n",
       "    <tr>\n",
       "      <th>40</th>\n",
       "      <td>13</td>\n",
       "      <td>13</td>\n",
       "      <td>13</td>\n",
       "      <td>13</td>\n",
       "      <td>13</td>\n",
       "      <td>13</td>\n",
       "      <td>13</td>\n",
       "      <td>13</td>\n",
       "      <td>13</td>\n",
       "      <td>13</td>\n",
       "      <td>13</td>\n",
       "    </tr>\n",
       "    <tr>\n",
       "      <th>41</th>\n",
       "      <td>24</td>\n",
       "      <td>24</td>\n",
       "      <td>24</td>\n",
       "      <td>24</td>\n",
       "      <td>24</td>\n",
       "      <td>24</td>\n",
       "      <td>24</td>\n",
       "      <td>24</td>\n",
       "      <td>24</td>\n",
       "      <td>24</td>\n",
       "      <td>24</td>\n",
       "    </tr>\n",
       "    <tr>\n",
       "      <th>42</th>\n",
       "      <td>18</td>\n",
       "      <td>18</td>\n",
       "      <td>18</td>\n",
       "      <td>18</td>\n",
       "      <td>18</td>\n",
       "      <td>18</td>\n",
       "      <td>18</td>\n",
       "      <td>18</td>\n",
       "      <td>18</td>\n",
       "      <td>18</td>\n",
       "      <td>18</td>\n",
       "    </tr>\n",
       "    <tr>\n",
       "      <th>43</th>\n",
       "      <td>24</td>\n",
       "      <td>24</td>\n",
       "      <td>24</td>\n",
       "      <td>24</td>\n",
       "      <td>24</td>\n",
       "      <td>24</td>\n",
       "      <td>24</td>\n",
       "      <td>24</td>\n",
       "      <td>24</td>\n",
       "      <td>24</td>\n",
       "      <td>24</td>\n",
       "    </tr>\n",
       "    <tr>\n",
       "      <th>44</th>\n",
       "      <td>19</td>\n",
       "      <td>19</td>\n",
       "      <td>19</td>\n",
       "      <td>19</td>\n",
       "      <td>19</td>\n",
       "      <td>19</td>\n",
       "      <td>19</td>\n",
       "      <td>19</td>\n",
       "      <td>19</td>\n",
       "      <td>19</td>\n",
       "      <td>19</td>\n",
       "    </tr>\n",
       "    <tr>\n",
       "      <th>45</th>\n",
       "      <td>18</td>\n",
       "      <td>18</td>\n",
       "      <td>18</td>\n",
       "      <td>18</td>\n",
       "      <td>18</td>\n",
       "      <td>18</td>\n",
       "      <td>18</td>\n",
       "      <td>18</td>\n",
       "      <td>18</td>\n",
       "      <td>18</td>\n",
       "      <td>18</td>\n",
       "    </tr>\n",
       "    <tr>\n",
       "      <th>46</th>\n",
       "      <td>24</td>\n",
       "      <td>24</td>\n",
       "      <td>24</td>\n",
       "      <td>24</td>\n",
       "      <td>24</td>\n",
       "      <td>24</td>\n",
       "      <td>24</td>\n",
       "      <td>24</td>\n",
       "      <td>24</td>\n",
       "      <td>24</td>\n",
       "      <td>24</td>\n",
       "    </tr>\n",
       "    <tr>\n",
       "      <th>47</th>\n",
       "      <td>19</td>\n",
       "      <td>19</td>\n",
       "      <td>19</td>\n",
       "      <td>19</td>\n",
       "      <td>19</td>\n",
       "      <td>19</td>\n",
       "      <td>19</td>\n",
       "      <td>19</td>\n",
       "      <td>19</td>\n",
       "      <td>19</td>\n",
       "      <td>19</td>\n",
       "    </tr>\n",
       "    <tr>\n",
       "      <th>48</th>\n",
       "      <td>31</td>\n",
       "      <td>31</td>\n",
       "      <td>31</td>\n",
       "      <td>31</td>\n",
       "      <td>31</td>\n",
       "      <td>31</td>\n",
       "      <td>31</td>\n",
       "      <td>31</td>\n",
       "      <td>31</td>\n",
       "      <td>31</td>\n",
       "      <td>31</td>\n",
       "    </tr>\n",
       "    <tr>\n",
       "      <th>49</th>\n",
       "      <td>22</td>\n",
       "      <td>22</td>\n",
       "      <td>22</td>\n",
       "      <td>22</td>\n",
       "      <td>22</td>\n",
       "      <td>22</td>\n",
       "      <td>22</td>\n",
       "      <td>22</td>\n",
       "      <td>22</td>\n",
       "      <td>22</td>\n",
       "      <td>22</td>\n",
       "    </tr>\n",
       "    <tr>\n",
       "      <th>50</th>\n",
       "      <td>25</td>\n",
       "      <td>25</td>\n",
       "      <td>25</td>\n",
       "      <td>25</td>\n",
       "      <td>25</td>\n",
       "      <td>25</td>\n",
       "      <td>25</td>\n",
       "      <td>25</td>\n",
       "      <td>25</td>\n",
       "      <td>25</td>\n",
       "      <td>25</td>\n",
       "    </tr>\n",
       "    <tr>\n",
       "      <th>51</th>\n",
       "      <td>35</td>\n",
       "      <td>35</td>\n",
       "      <td>35</td>\n",
       "      <td>35</td>\n",
       "      <td>35</td>\n",
       "      <td>35</td>\n",
       "      <td>35</td>\n",
       "      <td>35</td>\n",
       "      <td>35</td>\n",
       "      <td>35</td>\n",
       "      <td>35</td>\n",
       "    </tr>\n",
       "    <tr>\n",
       "      <th>52</th>\n",
       "      <td>36</td>\n",
       "      <td>36</td>\n",
       "      <td>36</td>\n",
       "      <td>36</td>\n",
       "      <td>36</td>\n",
       "      <td>36</td>\n",
       "      <td>36</td>\n",
       "      <td>36</td>\n",
       "      <td>36</td>\n",
       "      <td>36</td>\n",
       "      <td>36</td>\n",
       "    </tr>\n",
       "    <tr>\n",
       "      <th>53</th>\n",
       "      <td>33</td>\n",
       "      <td>33</td>\n",
       "      <td>33</td>\n",
       "      <td>33</td>\n",
       "      <td>33</td>\n",
       "      <td>33</td>\n",
       "      <td>33</td>\n",
       "      <td>33</td>\n",
       "      <td>33</td>\n",
       "      <td>33</td>\n",
       "      <td>33</td>\n",
       "    </tr>\n",
       "    <tr>\n",
       "      <th>54</th>\n",
       "      <td>51</td>\n",
       "      <td>51</td>\n",
       "      <td>51</td>\n",
       "      <td>51</td>\n",
       "      <td>51</td>\n",
       "      <td>51</td>\n",
       "      <td>51</td>\n",
       "      <td>51</td>\n",
       "      <td>51</td>\n",
       "      <td>51</td>\n",
       "      <td>51</td>\n",
       "    </tr>\n",
       "    <tr>\n",
       "      <th>55</th>\n",
       "      <td>40</td>\n",
       "      <td>40</td>\n",
       "      <td>40</td>\n",
       "      <td>40</td>\n",
       "      <td>40</td>\n",
       "      <td>40</td>\n",
       "      <td>40</td>\n",
       "      <td>40</td>\n",
       "      <td>40</td>\n",
       "      <td>40</td>\n",
       "      <td>40</td>\n",
       "    </tr>\n",
       "    <tr>\n",
       "      <th>56</th>\n",
       "      <td>38</td>\n",
       "      <td>38</td>\n",
       "      <td>38</td>\n",
       "      <td>38</td>\n",
       "      <td>38</td>\n",
       "      <td>38</td>\n",
       "      <td>38</td>\n",
       "      <td>38</td>\n",
       "      <td>38</td>\n",
       "      <td>38</td>\n",
       "      <td>38</td>\n",
       "    </tr>\n",
       "    <tr>\n",
       "      <th>57</th>\n",
       "      <td>38</td>\n",
       "      <td>38</td>\n",
       "      <td>38</td>\n",
       "      <td>38</td>\n",
       "      <td>38</td>\n",
       "      <td>38</td>\n",
       "      <td>38</td>\n",
       "      <td>38</td>\n",
       "      <td>38</td>\n",
       "      <td>38</td>\n",
       "      <td>38</td>\n",
       "    </tr>\n",
       "    <tr>\n",
       "      <th>58</th>\n",
       "      <td>42</td>\n",
       "      <td>42</td>\n",
       "      <td>42</td>\n",
       "      <td>42</td>\n",
       "      <td>42</td>\n",
       "      <td>42</td>\n",
       "      <td>42</td>\n",
       "      <td>42</td>\n",
       "      <td>42</td>\n",
       "      <td>42</td>\n",
       "      <td>42</td>\n",
       "    </tr>\n",
       "    <tr>\n",
       "      <th>59</th>\n",
       "      <td>35</td>\n",
       "      <td>35</td>\n",
       "      <td>35</td>\n",
       "      <td>35</td>\n",
       "      <td>35</td>\n",
       "      <td>35</td>\n",
       "      <td>35</td>\n",
       "      <td>35</td>\n",
       "      <td>35</td>\n",
       "      <td>35</td>\n",
       "      <td>35</td>\n",
       "    </tr>\n",
       "    <tr>\n",
       "      <th>60</th>\n",
       "      <td>32</td>\n",
       "      <td>32</td>\n",
       "      <td>32</td>\n",
       "      <td>32</td>\n",
       "      <td>32</td>\n",
       "      <td>32</td>\n",
       "      <td>32</td>\n",
       "      <td>32</td>\n",
       "      <td>32</td>\n",
       "      <td>32</td>\n",
       "      <td>32</td>\n",
       "    </tr>\n",
       "    <tr>\n",
       "      <th>61</th>\n",
       "      <td>31</td>\n",
       "      <td>31</td>\n",
       "      <td>31</td>\n",
       "      <td>31</td>\n",
       "      <td>31</td>\n",
       "      <td>31</td>\n",
       "      <td>31</td>\n",
       "      <td>31</td>\n",
       "      <td>31</td>\n",
       "      <td>31</td>\n",
       "      <td>31</td>\n",
       "    </tr>\n",
       "    <tr>\n",
       "      <th>62</th>\n",
       "      <td>34</td>\n",
       "      <td>34</td>\n",
       "      <td>34</td>\n",
       "      <td>34</td>\n",
       "      <td>34</td>\n",
       "      <td>34</td>\n",
       "      <td>34</td>\n",
       "      <td>34</td>\n",
       "      <td>34</td>\n",
       "      <td>34</td>\n",
       "      <td>34</td>\n",
       "    </tr>\n",
       "    <tr>\n",
       "      <th>63</th>\n",
       "      <td>30</td>\n",
       "      <td>30</td>\n",
       "      <td>30</td>\n",
       "      <td>30</td>\n",
       "      <td>30</td>\n",
       "      <td>30</td>\n",
       "      <td>30</td>\n",
       "      <td>30</td>\n",
       "      <td>30</td>\n",
       "      <td>30</td>\n",
       "      <td>30</td>\n",
       "    </tr>\n",
       "    <tr>\n",
       "      <th>64</th>\n",
       "      <td>22</td>\n",
       "      <td>22</td>\n",
       "      <td>22</td>\n",
       "      <td>22</td>\n",
       "      <td>22</td>\n",
       "      <td>22</td>\n",
       "      <td>22</td>\n",
       "      <td>22</td>\n",
       "      <td>22</td>\n",
       "      <td>22</td>\n",
       "      <td>22</td>\n",
       "    </tr>\n",
       "    <tr>\n",
       "      <th>65</th>\n",
       "      <td>21</td>\n",
       "      <td>21</td>\n",
       "      <td>21</td>\n",
       "      <td>21</td>\n",
       "      <td>21</td>\n",
       "      <td>21</td>\n",
       "      <td>21</td>\n",
       "      <td>21</td>\n",
       "      <td>21</td>\n",
       "      <td>21</td>\n",
       "      <td>21</td>\n",
       "    </tr>\n",
       "    <tr>\n",
       "      <th>66</th>\n",
       "      <td>13</td>\n",
       "      <td>13</td>\n",
       "      <td>13</td>\n",
       "      <td>13</td>\n",
       "      <td>13</td>\n",
       "      <td>13</td>\n",
       "      <td>13</td>\n",
       "      <td>13</td>\n",
       "      <td>13</td>\n",
       "      <td>13</td>\n",
       "      <td>13</td>\n",
       "    </tr>\n",
       "    <tr>\n",
       "      <th>67</th>\n",
       "      <td>15</td>\n",
       "      <td>15</td>\n",
       "      <td>15</td>\n",
       "      <td>15</td>\n",
       "      <td>15</td>\n",
       "      <td>15</td>\n",
       "      <td>15</td>\n",
       "      <td>15</td>\n",
       "      <td>15</td>\n",
       "      <td>15</td>\n",
       "      <td>15</td>\n",
       "    </tr>\n",
       "    <tr>\n",
       "      <th>68</th>\n",
       "      <td>10</td>\n",
       "      <td>10</td>\n",
       "      <td>10</td>\n",
       "      <td>10</td>\n",
       "      <td>10</td>\n",
       "      <td>10</td>\n",
       "      <td>10</td>\n",
       "      <td>10</td>\n",
       "      <td>10</td>\n",
       "      <td>10</td>\n",
       "      <td>10</td>\n",
       "    </tr>\n",
       "    <tr>\n",
       "      <th>69</th>\n",
       "      <td>13</td>\n",
       "      <td>13</td>\n",
       "      <td>13</td>\n",
       "      <td>13</td>\n",
       "      <td>13</td>\n",
       "      <td>13</td>\n",
       "      <td>13</td>\n",
       "      <td>13</td>\n",
       "      <td>13</td>\n",
       "      <td>13</td>\n",
       "      <td>13</td>\n",
       "    </tr>\n",
       "    <tr>\n",
       "      <th>70</th>\n",
       "      <td>7</td>\n",
       "      <td>7</td>\n",
       "      <td>7</td>\n",
       "      <td>7</td>\n",
       "      <td>7</td>\n",
       "      <td>7</td>\n",
       "      <td>7</td>\n",
       "      <td>7</td>\n",
       "      <td>7</td>\n",
       "      <td>7</td>\n",
       "      <td>7</td>\n",
       "    </tr>\n",
       "    <tr>\n",
       "      <th>71</th>\n",
       "      <td>5</td>\n",
       "      <td>5</td>\n",
       "      <td>5</td>\n",
       "      <td>5</td>\n",
       "      <td>5</td>\n",
       "      <td>5</td>\n",
       "      <td>5</td>\n",
       "      <td>5</td>\n",
       "      <td>5</td>\n",
       "      <td>5</td>\n",
       "      <td>5</td>\n",
       "    </tr>\n",
       "    <tr>\n",
       "      <th>72</th>\n",
       "      <td>4</td>\n",
       "      <td>4</td>\n",
       "      <td>4</td>\n",
       "      <td>4</td>\n",
       "      <td>4</td>\n",
       "      <td>4</td>\n",
       "      <td>4</td>\n",
       "      <td>4</td>\n",
       "      <td>4</td>\n",
       "      <td>4</td>\n",
       "      <td>4</td>\n",
       "    </tr>\n",
       "    <tr>\n",
       "      <th>73</th>\n",
       "      <td>1</td>\n",
       "      <td>1</td>\n",
       "      <td>1</td>\n",
       "      <td>1</td>\n",
       "      <td>1</td>\n",
       "      <td>1</td>\n",
       "      <td>1</td>\n",
       "      <td>1</td>\n",
       "      <td>1</td>\n",
       "      <td>1</td>\n",
       "      <td>1</td>\n",
       "    </tr>\n",
       "    <tr>\n",
       "      <th>74</th>\n",
       "      <td>7</td>\n",
       "      <td>7</td>\n",
       "      <td>7</td>\n",
       "      <td>7</td>\n",
       "      <td>7</td>\n",
       "      <td>7</td>\n",
       "      <td>7</td>\n",
       "      <td>7</td>\n",
       "      <td>7</td>\n",
       "      <td>7</td>\n",
       "      <td>7</td>\n",
       "    </tr>\n",
       "    <tr>\n",
       "      <th>75</th>\n",
       "      <td>3</td>\n",
       "      <td>3</td>\n",
       "      <td>3</td>\n",
       "      <td>3</td>\n",
       "      <td>3</td>\n",
       "      <td>3</td>\n",
       "      <td>3</td>\n",
       "      <td>3</td>\n",
       "      <td>3</td>\n",
       "      <td>3</td>\n",
       "      <td>3</td>\n",
       "    </tr>\n",
       "    <tr>\n",
       "      <th>76</th>\n",
       "      <td>2</td>\n",
       "      <td>2</td>\n",
       "      <td>2</td>\n",
       "      <td>2</td>\n",
       "      <td>2</td>\n",
       "      <td>2</td>\n",
       "      <td>2</td>\n",
       "      <td>2</td>\n",
       "      <td>2</td>\n",
       "      <td>2</td>\n",
       "      <td>2</td>\n",
       "    </tr>\n",
       "    <tr>\n",
       "      <th>77</th>\n",
       "      <td>2</td>\n",
       "      <td>2</td>\n",
       "      <td>2</td>\n",
       "      <td>2</td>\n",
       "      <td>2</td>\n",
       "      <td>2</td>\n",
       "      <td>2</td>\n",
       "      <td>2</td>\n",
       "      <td>2</td>\n",
       "      <td>2</td>\n",
       "      <td>2</td>\n",
       "    </tr>\n",
       "  </tbody>\n",
       "</table>\n",
       "</div>"
      ],
      "text/plain": [
       "     sex  cp  trestbps  chol  fbs  restecg  thalch  exang  oldpeak  ca  num\n",
       "age                                                                        \n",
       "28     1   1         1     1    1        1       1      1        1   1    1\n",
       "29     3   3         3     3    3        3       3      3        3   3    3\n",
       "30     1   1         1     1    1        1       1      1        1   1    1\n",
       "31     2   2         2     2    2        2       2      2        2   2    2\n",
       "32     5   5         5     5    5        5       5      5        5   5    5\n",
       "33     2   2         2     2    2        2       2      2        2   2    2\n",
       "34     6   6         6     6    6        6       6      6        6   6    6\n",
       "35    11  11        11    11   11       11      11     11       11  11   11\n",
       "36     6   6         6     6    6        6       6      6        6   6    6\n",
       "37    11  11        11    11   11       11      11     11       11  11   11\n",
       "38    16  16        16    16   16       16      16     16       16  16   16\n",
       "39    15  15        15    15   15       15      15     15       15  15   15\n",
       "40    13  13        13    13   13       13      13     13       13  13   13\n",
       "41    24  24        24    24   24       24      24     24       24  24   24\n",
       "42    18  18        18    18   18       18      18     18       18  18   18\n",
       "43    24  24        24    24   24       24      24     24       24  24   24\n",
       "44    19  19        19    19   19       19      19     19       19  19   19\n",
       "45    18  18        18    18   18       18      18     18       18  18   18\n",
       "46    24  24        24    24   24       24      24     24       24  24   24\n",
       "47    19  19        19    19   19       19      19     19       19  19   19\n",
       "48    31  31        31    31   31       31      31     31       31  31   31\n",
       "49    22  22        22    22   22       22      22     22       22  22   22\n",
       "50    25  25        25    25   25       25      25     25       25  25   25\n",
       "51    35  35        35    35   35       35      35     35       35  35   35\n",
       "52    36  36        36    36   36       36      36     36       36  36   36\n",
       "53    33  33        33    33   33       33      33     33       33  33   33\n",
       "54    51  51        51    51   51       51      51     51       51  51   51\n",
       "55    40  40        40    40   40       40      40     40       40  40   40\n",
       "56    38  38        38    38   38       38      38     38       38  38   38\n",
       "57    38  38        38    38   38       38      38     38       38  38   38\n",
       "58    42  42        42    42   42       42      42     42       42  42   42\n",
       "59    35  35        35    35   35       35      35     35       35  35   35\n",
       "60    32  32        32    32   32       32      32     32       32  32   32\n",
       "61    31  31        31    31   31       31      31     31       31  31   31\n",
       "62    34  34        34    34   34       34      34     34       34  34   34\n",
       "63    30  30        30    30   30       30      30     30       30  30   30\n",
       "64    22  22        22    22   22       22      22     22       22  22   22\n",
       "65    21  21        21    21   21       21      21     21       21  21   21\n",
       "66    13  13        13    13   13       13      13     13       13  13   13\n",
       "67    15  15        15    15   15       15      15     15       15  15   15\n",
       "68    10  10        10    10   10       10      10     10       10  10   10\n",
       "69    13  13        13    13   13       13      13     13       13  13   13\n",
       "70     7   7         7     7    7        7       7      7        7   7    7\n",
       "71     5   5         5     5    5        5       5      5        5   5    5\n",
       "72     4   4         4     4    4        4       4      4        4   4    4\n",
       "73     1   1         1     1    1        1       1      1        1   1    1\n",
       "74     7   7         7     7    7        7       7      7        7   7    7\n",
       "75     3   3         3     3    3        3       3      3        3   3    3\n",
       "76     2   2         2     2    2        2       2      2        2   2    2\n",
       "77     2   2         2     2    2        2       2      2        2   2    2"
      ]
     },
     "execution_count": 238,
     "metadata": {},
     "output_type": "execute_result"
    }
   ],
   "source": [
    "df2.groupby('age').count()"
   ]
  },
  {
   "cell_type": "code",
   "execution_count": 231,
   "metadata": {},
   "outputs": [
    {
     "data": {
      "image/png": "[encoded data removed]",
      "text/plain": [
       "<Figure size 640x480 with 1 Axes>"
      ]
     },
     "metadata": {},
     "output_type": "display_data"
    }
   ],
   "source": [
    "# Prikaz broja izlaznih oznaka\n",
    "plt.hist(df2.num, bins=30)\n",
    "plt.xlabel('Labels')\n",
    "plt.ylabel('Count')\n",
    "plt.show()"
   ]
  },
  {
   "cell_type": "code",
   "execution_count": 234,
   "metadata": {},
   "outputs": [
    {
     "data": {
      "image/png": "[encoded data removed]",
      "text/plain": [
       "<Figure size 640x480 with 1 Axes>"
      ]
     },
     "metadata": {},
     "output_type": "display_data"
    }
   ],
   "source": [
    "# Dijagram rasporedbe spola\n",
    "\n",
    "count_per_sex = df['sex'].value_counts()\n",
    "\n",
    "labels = count_per_sex.index\n",
    "sizes = count_per_sex.values\n",
    "\n",
    "plt.pie(sizes, labels=labels, autopct='%1.1f%%', startangle=140)\n",
    "plt.axis('equal') \n",
    "plt.show()\n"
   ]
  },
  {
   "cell_type": "code",
   "execution_count": 235,
   "metadata": {},
   "outputs": [
    {
     "data": {
      "text/html": [
       "<div>\n",
       "<style scoped>\n",
       "    .dataframe tbody tr th:only-of-type {\n",
       "        vertical-align: middle;\n",
       "    }\n",
       "\n",
       "    .dataframe tbody tr th {\n",
       "        vertical-align: top;\n",
       "    }\n",
       "\n",
       "    .dataframe thead th {\n",
       "        text-align: right;\n",
       "    }\n",
       "</style>\n",
       "<table border=\"1\" class=\"dataframe\">\n",
       "  <thead>\n",
       "    <tr style=\"text-align: right;\">\n",
       "      <th></th>\n",
       "      <th>sex</th>\n",
       "      <th>Female</th>\n",
       "      <th>Male</th>\n",
       "    </tr>\n",
       "  </thead>\n",
       "  <tbody>\n",
       "    <tr>\n",
       "      <th rowspan=\"5\" valign=\"top\">age</th>\n",
       "      <th>count</th>\n",
       "      <td>194.000000</td>\n",
       "      <td>722.000000</td>\n",
       "    </tr>\n",
       "    <tr>\n",
       "      <th>mean</th>\n",
       "      <td>52.474227</td>\n",
       "      <td>53.796399</td>\n",
       "    </tr>\n",
       "    <tr>\n",
       "      <th>std</th>\n",
       "      <td>9.496214</td>\n",
       "      <td>9.383424</td>\n",
       "    </tr>\n",
       "    <tr>\n",
       "      <th>min</th>\n",
       "      <td>30.000000</td>\n",
       "      <td>28.000000</td>\n",
       "    </tr>\n",
       "    <tr>\n",
       "      <th>25%</th>\n",
       "      <td>46.000000</td>\n",
       "      <td>47.000000</td>\n",
       "    </tr>\n",
       "    <tr>\n",
       "      <th>...</th>\n",
       "      <th>...</th>\n",
       "      <td>...</td>\n",
       "      <td>...</td>\n",
       "    </tr>\n",
       "    <tr>\n",
       "      <th rowspan=\"5\" valign=\"top\">num</th>\n",
       "      <th>min</th>\n",
       "      <td>0.000000</td>\n",
       "      <td>0.000000</td>\n",
       "    </tr>\n",
       "    <tr>\n",
       "      <th>25%</th>\n",
       "      <td>0.000000</td>\n",
       "      <td>0.000000</td>\n",
       "    </tr>\n",
       "    <tr>\n",
       "      <th>50%</th>\n",
       "      <td>0.000000</td>\n",
       "      <td>1.000000</td>\n",
       "    </tr>\n",
       "    <tr>\n",
       "      <th>75%</th>\n",
       "      <td>1.000000</td>\n",
       "      <td>2.000000</td>\n",
       "    </tr>\n",
       "    <tr>\n",
       "      <th>max</th>\n",
       "      <td>4.000000</td>\n",
       "      <td>4.000000</td>\n",
       "    </tr>\n",
       "  </tbody>\n",
       "</table>\n",
       "<p>64 rows × 2 columns</p>\n",
       "</div>"
      ],
      "text/plain": [
       "sex            Female        Male\n",
       "age count  194.000000  722.000000\n",
       "    mean    52.474227   53.796399\n",
       "    std      9.496214    9.383424\n",
       "    min     30.000000   28.000000\n",
       "    25%     46.000000   47.000000\n",
       "...               ...         ...\n",
       "num min      0.000000    0.000000\n",
       "    25%      0.000000    0.000000\n",
       "    50%      0.000000    1.000000\n",
       "    75%      1.000000    2.000000\n",
       "    max      4.000000    4.000000\n",
       "\n",
       "[64 rows x 2 columns]"
      ]
     },
     "execution_count": 235,
     "metadata": {},
     "output_type": "execute_result"
    }
   ],
   "source": [
    "# Opis značajke koja opisuje spol\n",
    "df2.groupby('sex').describe().transpose()"
   ]
  },
  {
   "cell_type": "code",
   "execution_count": null,
   "metadata": {},
   "outputs": [],
   "source": [
    "plt.hist(X[X.Survived == 1].Fare, bins=30, range=(0,100), label='Fare survived', color='green', alpha=0.3)\n",
    "plt.hist(X[X.Survived == 0].Fare, bins=30, range=(0,100), label='Fare died', color='blue', alpha=0.3)\n",
    "plt.legend(loc='best')\n",
    "plt.grid()\n",
    "plt.show()"
   ]
  }
 ],
 "metadata": {
  "kernelspec": {
   "display_name": "Python 3",
   "language": "python",
   "name": "python3"
  },
  "language_info": {
   "codemirror_mode": {
    "name": "ipython",
    "version": 3
   },
   "file_extension": ".py",
   "mimetype": "text/x-python",
   "name": "python",
   "nbconvert_exporter": "python",
   "pygments_lexer": "ipython3",
   "version": "3.10.13"
  }
 },
 "nbformat": 4,
 "nbformat_minor": 2
}
